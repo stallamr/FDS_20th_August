{
 "cells": [
  {
   "cell_type": "code",
   "execution_count": 5,
   "id": "afcb76a6-0888-4b55-8f4c-a1f3cc03a9aa",
   "metadata": {},
   "outputs": [
    {
     "name": "stdout",
     "output_type": "stream",
     "text": [
      "[1, 2, 3, 4, 5, 6, 7, 8, 9, 10]\n",
      "[1, 2, 3, 4, 5, 6, 7, 8, 9, 10]\n"
     ]
    }
   ],
   "source": [
    "# 1. list of integers from 1 to 10\n",
    "l = []\n",
    "for i in range(1,11):\n",
    "    l.append(i)\n",
    "print(l)\n",
    "l1 = list(range(1,11))\n",
    "print(l1)"
   ]
  },
  {
   "cell_type": "code",
   "execution_count": 6,
   "id": "e3994fa8-65ff-4bc0-ac70-13260802ee2c",
   "metadata": {},
   "outputs": [
    {
     "name": "stdout",
     "output_type": "stream",
     "text": [
      "length of list: 10\n"
     ]
    }
   ],
   "source": [
    "# 2. len of list\n",
    "cnt = 0\n",
    "for i in l:\n",
    "    cnt += 1\n",
    "print(f\"length of list: {cnt}\")"
   ]
  },
  {
   "cell_type": "code",
   "execution_count": 18,
   "id": "e291c981-5097-4fbd-9364-27fe070c807b",
   "metadata": {},
   "outputs": [
    {
     "name": "stdout",
     "output_type": "stream",
     "text": [
      "[2, 3, 4, 5, 12, 12, 12, 6, 7, 8, 9, 10, 11, 11, 11, 11, 11, 11, 11]\n",
      "[2, 3, 4, 5, 12, 12, 12, 12, 6, 7, 8, 9, 10, 11, 11, 11, 11, 11, 11, 11]\n",
      "[2, 3, 4, 5, 12, 12, 12, 6, 7, 8, 9, 10, 11, 11, 11, 11, 11, 11, 11]\n"
     ]
    }
   ],
   "source": [
    "# 3, 4 & 5. Append and insert and remove element from list\n",
    "l = l1\n",
    "l.append(11)\n",
    "print(l)\n",
    "# insert\n",
    "l.insert(5, 12)\n",
    "print(l)\n",
    "# remove\n",
    "l.remove(12)\n",
    "print(l)"
   ]
  },
  {
   "cell_type": "code",
   "execution_count": 20,
   "id": "d4d9c460-34ea-4d93-ae4a-322184b6593a",
   "metadata": {},
   "outputs": [
    {
     "name": "stdout",
     "output_type": "stream",
     "text": [
      "[2, 3, 4, 5, 12, 12, 12, 6, 7, 8, 9, 10, 11, 11, 11, 11, 11, 11, 11]\n",
      "[2, 3, 4, 5, 12, 12, 6, 7, 8, 9, 10, 11, 11, 11, 11, 11, 11, 11]\n"
     ]
    }
   ],
   "source": [
    "# 6. Remove element by index\n",
    "l = l1\n",
    "print(l)\n",
    "l.pop(6)\n",
    "print(l)"
   ]
  },
  {
   "cell_type": "code",
   "execution_count": 23,
   "id": "42759f49-ec41-4fc5-a08b-35aec103314f",
   "metadata": {},
   "outputs": [
    {
     "name": "stdout",
     "output_type": "stream",
     "text": [
      "[2, 3, 4, 5, 12, 12, 6, 7, 8, 9, 10, 11, 11, 11, 11, 11, 11, 11]\n",
      "no\n"
     ]
    }
   ],
   "source": [
    "# 7. Check if element exists\n",
    "print(l)\n",
    "if 100 in l:\n",
    "    print(\"yes\")\n",
    "else:\n",
    "    print(\"no\")"
   ]
  },
  {
   "cell_type": "code",
   "execution_count": 24,
   "id": "63fcd9d0-e127-4064-97b5-dfed12ce7b5f",
   "metadata": {},
   "outputs": [
    {
     "name": "stdout",
     "output_type": "stream",
     "text": [
      "[2, 3, 4, 5, 12, 12, 6, 7, 8, 9, 10, 11, 11, 11, 11, 11, 11, 11]\n",
      "4\n"
     ]
    }
   ],
   "source": [
    "# 8. Index of first occurence\n",
    "print(l)\n",
    "print(l.index(12))"
   ]
  },
  {
   "cell_type": "code",
   "execution_count": 25,
   "id": "c1b729e9-3b76-453c-a879-a4f38b0c5c84",
   "metadata": {},
   "outputs": [
    {
     "name": "stdout",
     "output_type": "stream",
     "text": [
      "[2, 3, 4, 5, 12, 12, 6, 7, 8, 9, 10, 11, 11, 11, 11, 11, 11, 11]\n",
      "7\n"
     ]
    }
   ],
   "source": [
    "# 9. count occurences\n",
    "print(l)\n",
    "print(l.count(11))"
   ]
  },
  {
   "cell_type": "code",
   "execution_count": 31,
   "id": "f7e7d9a1-8fd5-49e9-ac9b-60db8c58931e",
   "metadata": {},
   "outputs": [
    {
     "name": "stdout",
     "output_type": "stream",
     "text": [
      "[1, 2, 3, 5, 6, 7, 10, 15]\n",
      "[15, 10, 7, 6, 5, 3, 2, 1]\n"
     ]
    }
   ],
   "source": [
    "# 10. reverse the list\n",
    "print(l)\n",
    "lr = l[::-1]\n",
    "print(lr)"
   ]
  },
  {
   "cell_type": "code",
   "execution_count": 35,
   "id": "5d338efd-d573-46e3-879f-30848d52e2cc",
   "metadata": {},
   "outputs": [
    {
     "name": "stdout",
     "output_type": "stream",
     "text": [
      "ascending: [1, 2, 3, 5, 6, 7, 10, 15]\n",
      "descending: [15, 10, 7, 6, 5, 3, 2, 1]\n"
     ]
    }
   ],
   "source": [
    "# 11 & 12. Sort ascending and descending\n",
    "l = [10,2,1,15,3,5,6,7]\n",
    "l.sort()\n",
    "print(f\"ascending: {l}\")\n",
    "l.sort(reverse=True)\n",
    "print(f\"descending: {l}\")"
   ]
  },
  {
   "cell_type": "code",
   "execution_count": 39,
   "id": "d58364f4-1e74-45cc-8d73-b126201a55e8",
   "metadata": {},
   "outputs": [
    {
     "name": "stdout",
     "output_type": "stream",
     "text": [
      "[2, 4, 6, 8, 10, 12, 14, 16, 18, 20]\n"
     ]
    }
   ],
   "source": [
    "# 13. Create even from 1 to 20\n",
    "l = list(range(2,21,2))\n",
    "print(l)"
   ]
  },
  {
   "cell_type": "code",
   "execution_count": 40,
   "id": "ec8befed-3ad5-4b35-9193-6014aafc48ad",
   "metadata": {},
   "outputs": [
    {
     "name": "stdout",
     "output_type": "stream",
     "text": [
      "[1, 3, 5, 7, 9, 11, 13, 15, 17, 19]\n"
     ]
    }
   ],
   "source": [
    "# 14. Create evodden from 1 to 20\n",
    "l = list(range(1,20,2))\n",
    "print(l)"
   ]
  },
  {
   "cell_type": "code",
   "execution_count": 49,
   "id": "16951540-560d-4617-a3c1-f7e9276abe6f",
   "metadata": {},
   "outputs": [
    {
     "name": "stdout",
     "output_type": "stream",
     "text": [
      "55\n"
     ]
    }
   ],
   "source": [
    "# 15. sum of all elements in list\n",
    "Sum = 0\n",
    "for s in list(range(1,11)):\n",
    "    Sum += s\n",
    "print(Sum)"
   ]
  },
  {
   "cell_type": "code",
   "execution_count": 54,
   "id": "fe472b1b-074d-40e1-a505-3f82108547bd",
   "metadata": {},
   "outputs": [
    {
     "name": "stdout",
     "output_type": "stream",
     "text": [
      "[55, 59, 89, 84, 43, 23, 91, 33, 17, 11]\n",
      "Maximum: 91\n",
      "Minimum: 11\n"
     ]
    },
    {
     "ename": "TypeError",
     "evalue": "'int' object is not callable",
     "output_type": "error",
     "traceback": [
      "\u001b[0;31m---------------------------------------------------------------------------\u001b[0m",
      "\u001b[0;31mTypeError\u001b[0m                                 Traceback (most recent call last)",
      "Cell \u001b[0;32mIn[54], line 17\u001b[0m\n\u001b[1;32m     14\u001b[0m \u001b[38;5;28mprint\u001b[39m(\u001b[38;5;124mf\u001b[39m\u001b[38;5;124m\"\u001b[39m\u001b[38;5;124mMinimum: \u001b[39m\u001b[38;5;132;01m{\u001b[39;00mMin\u001b[38;5;132;01m}\u001b[39;00m\u001b[38;5;124m\"\u001b[39m)\n\u001b[1;32m     16\u001b[0m \u001b[38;5;66;03m# sum of list\u001b[39;00m\n\u001b[0;32m---> 17\u001b[0m Sum \u001b[38;5;241m=\u001b[39m \u001b[38;5;28;43msum\u001b[39;49m\u001b[43m(\u001b[49m\u001b[43ml\u001b[49m\u001b[43m)\u001b[49m\n\u001b[1;32m     18\u001b[0m \u001b[38;5;28mprint\u001b[39m(\u001b[38;5;124mf\u001b[39m\u001b[38;5;124m\"\u001b[39m\u001b[38;5;124mSum: \u001b[39m\u001b[38;5;132;01m{\u001b[39;00mSum\u001b[38;5;132;01m}\u001b[39;00m\u001b[38;5;124m\"\u001b[39m)\n",
      "\u001b[0;31mTypeError\u001b[0m: 'int' object is not callable"
     ]
    }
   ],
   "source": [
    "# 16, 17, 19 - Max and min in list and generate random numbers in list\n",
    "\n",
    "# 19. Random numbers in list\n",
    "import random\n",
    "l = random.sample(range(1,100), 10)\n",
    "print(l)\n",
    "\n",
    "# max from list\n",
    "Max = max(l)\n",
    "print(f\"Maximum: {Max}\")\n",
    "\n",
    "# min from list\n",
    "Min = min(l)\n",
    "print(f\"Minimum: {Min}\")\n",
    "\n"
   ]
  },
  {
   "cell_type": "code",
   "execution_count": 55,
   "id": "18a7250a-60e4-4453-b749-f7b13c5eff21",
   "metadata": {},
   "outputs": [
    {
     "name": "stdout",
     "output_type": "stream",
     "text": [
      "[3025, 3481, 7921, 7056, 1849, 529, 8281, 1089, 289, 121]\n"
     ]
    }
   ],
   "source": [
    "# 18. Square numbers in list\n",
    "LSquare = []\n",
    "for n in l:\n",
    "    LSquare.append(n**2)\n",
    "print(LSquare)"
   ]
  },
  {
   "cell_type": "code",
   "execution_count": 56,
   "id": "d9cc4a1d-5b12-4d40-a190-cf2e47f53e61",
   "metadata": {},
   "outputs": [
    {
     "name": "stdout",
     "output_type": "stream",
     "text": [
      "Set: {1, 2, 3, 4, 5, 6, 8}\n",
      "New list: [1, 2, 3, 4, 5, 6, 8]\n"
     ]
    }
   ],
   "source": [
    "# 20; Remove duplicate from list\n",
    "l = [1,2,3,4,1,2,3,4,5,3,4,5,6,8]\n",
    "s = set(l)\n",
    "l2 = list(s)\n",
    "print(f\"Set: {s}\")\n",
    "print(f\"New list: {l2}\")"
   ]
  },
  {
   "cell_type": "code",
   "execution_count": 57,
   "id": "e415ed17-644b-480f-a2ef-a7204dfdb419",
   "metadata": {},
   "outputs": [
    {
     "name": "stdout",
     "output_type": "stream",
     "text": [
      "Common elements are [1, 2, 3, 4, 1, 2, 3, 4, 5, 3, 4, 5, 6, 8]\n"
     ]
    }
   ],
   "source": [
    "# 21. Common elements between two lists\n",
    "cl = []\n",
    "for n in l:\n",
    "    if n in l2:\n",
    "        cl.append(n)\n",
    "print(f\"Common elements are {cl}\")"
   ]
  },
  {
   "cell_type": "code",
   "execution_count": 58,
   "id": "bb1b0d33-ee43-4ed3-9a9c-144151d28b79",
   "metadata": {},
   "outputs": [
    {
     "name": "stdout",
     "output_type": "stream",
     "text": [
      "Difference between two list: []\n"
     ]
    }
   ],
   "source": [
    "# 22. Difference between two lists\n",
    "dl = []\n",
    "for n in l:\n",
    "    if n not in l2:\n",
    "        dl.append(n)\n",
    "print(f\"Difference between two list: {dl}\")"
   ]
  },
  {
   "cell_type": "code",
   "execution_count": 60,
   "id": "bf0c869a-3ff2-4a4c-8983-1de88b765188",
   "metadata": {},
   "outputs": [
    {
     "name": "stdout",
     "output_type": "stream",
     "text": [
      "[1, 2, 3, 4, 1, 2, 3, 4, 5, 3, 4, 5, 6, 8]\n",
      "[1, 2, 3, 4, 5, 6, 8]\n",
      "[1, 2, 3, 4, 1, 2, 3, 4, 5, 3, 4, 5, 6, 8, 1, 2, 3, 4, 5, 6, 8]\n",
      "[1, 2, 3, 4, 5, 6, 8]\n"
     ]
    }
   ],
   "source": [
    "# 23. Merge two lists\n",
    "print(l)\n",
    "print(l2)\n",
    "l3 = l + l2\n",
    "print(l3)\n",
    "s = set(l3)\n",
    "l4 = list(s)\n",
    "print(l4)"
   ]
  },
  {
   "cell_type": "code",
   "execution_count": 61,
   "id": "b9a6c1a9-567d-444c-a53b-ef5fd17eedd0",
   "metadata": {},
   "outputs": [
    {
     "data": {
      "text/plain": [
       "[2, 4, 6, 8, 10, 12, 16]"
      ]
     },
     "execution_count": 61,
     "metadata": {},
     "output_type": "execute_result"
    }
   ],
   "source": [
    "# 24. Multiply all elements by 2\n",
    "[n*2 for n in l4]"
   ]
  },
  {
   "cell_type": "code",
   "execution_count": 65,
   "id": "a7893bf5-c3da-414a-a0cb-854220c07a6e",
   "metadata": {},
   "outputs": [
    {
     "name": "stdout",
     "output_type": "stream",
     "text": [
      "2\n",
      "4\n",
      "6\n",
      "8\n"
     ]
    },
    {
     "data": {
      "text/plain": [
       "[2, 4, 6, 8]"
      ]
     },
     "execution_count": 65,
     "metadata": {},
     "output_type": "execute_result"
    }
   ],
   "source": [
    "# 25. even numbers from list\n",
    "for n in l4:\n",
    "    if n % 2 == 0:\n",
    "        print(n)\n",
    "        \n",
    "# comprehension\n",
    "[n for n in l4 if (n%2 == 0)]"
   ]
  },
  {
   "cell_type": "code",
   "execution_count": 67,
   "id": "739fce4f-e306-4b46-92b9-3dba821094b7",
   "metadata": {},
   "outputs": [
    {
     "name": "stdout",
     "output_type": "stream",
     "text": [
      "['1', '2', '3', '4', '5', '6', '7', '8', '9', '10']\n",
      "[1, 2, 3, 4, 5, 6, 7, 8, 9, 10]\n"
     ]
    }
   ],
   "source": [
    "# 27. Convert list of numbers to list of strings\n",
    "str_list = [str(n) for n in range(1,11)]\n",
    "print(str_list)\n",
    "\n",
    "# 26. Convert list of string to list of numbers\n",
    "num_list = [int(s) for s in range(1,11)]\n",
    "print(num_list)"
   ]
  },
  {
   "cell_type": "code",
   "execution_count": 76,
   "id": "40d073d9-a24b-4d91-939d-4ee484b80135",
   "metadata": {},
   "outputs": [
    {
     "name": "stdout",
     "output_type": "stream",
     "text": [
      "[1, 2, 3, [4, 5, 6], 7, 8, [9, 10]]\n",
      "[1, 2, 3, 4, 5, 6, 7, 8, 9, 10]\n"
     ]
    }
   ],
   "source": [
    "# 28. Flatten nested list\n",
    "fl = [1,2,3,[4,5,6], 7,8, [9,10]]\n",
    "print(fl)\n",
    "idx = 0\n",
    "for n in fl:\n",
    "    if type(n) == type(fl):\n",
    "        for y in n:\n",
    "            fl.insert(idx, y)\n",
    "            idx += 1\n",
    "        fl.remove(n)\n",
    "    else:\n",
    "        idx += 1\n",
    "\n",
    "print(fl)"
   ]
  },
  {
   "cell_type": "code",
   "execution_count": 79,
   "id": "9842660e-608f-4b8d-9097-c4aaa46d5dd5",
   "metadata": {},
   "outputs": [
    {
     "name": "stdout",
     "output_type": "stream",
     "text": [
      "[1, 2, 3, 4, 5, 6, 7, 8, 9, 10]\n",
      "[1, 2, 3, 5, 8, 13, 21, 34, 55, 89]\n"
     ]
    }
   ],
   "source": [
    "# 29. First 10 Fibonacci numbers\n",
    "l = list(range(1,11))\n",
    "print(l)\n",
    "f = []\n",
    "f.append(l[0])\n",
    "f.append(l[1])\n",
    "for n in range(2,10):\n",
    "    f.append(f[n-1]+f[n-2])\n",
    "print(f)"
   ]
  },
  {
   "cell_type": "code",
   "execution_count": 88,
   "id": "9724cb0f-3661-4093-aeef-95c40cdf3658",
   "metadata": {},
   "outputs": [
    {
     "name": "stdout",
     "output_type": "stream",
     "text": [
      "[5, 43, 31, 33, 36, 44, 7, 6, 26, 39]\n",
      "[5, 6, 7, 26, 31, 33, 36, 39, 43, 44]\n",
      "not sorted\n"
     ]
    }
   ],
   "source": [
    "# 30. Check if list is sorted\n",
    "import random\n",
    "l = random.sample(range(1,50), 10)\n",
    "print(l)\n",
    "l2 = sorted(l)\n",
    "print(l2)\n",
    "\n",
    "if (l == l2):\n",
    "    print(\"sorted\")\n",
    "else:\n",
    "    print(\"not sorted\")\n"
   ]
  },
  {
   "cell_type": "code",
   "execution_count": 104,
   "id": "8f91fec2-4478-4c8e-a236-d7a08ac58cb0",
   "metadata": {},
   "outputs": [
    {
     "name": "stdin",
     "output_type": "stream",
     "text": [
      " Enter position number:  2\n"
     ]
    },
    {
     "name": "stdout",
     "output_type": "stream",
     "text": [
      "[6, 26, 33, 36, 39, 43, 44, 5, 7]\n",
      "[33, 36, 39, 43, 44, 5, 7, 6, 26]\n",
      "[6, 26, 33, 36, 39, 43, 44, 5, 7]\n"
     ]
    }
   ],
   "source": [
    "# 31 & 32. Rotate the list to left by n position\n",
    "n = int(input(\" Enter position number: \"))\n",
    "print(l2)\n",
    "# left rotation\n",
    "left_list = l2[:n]\n",
    "remain_list = l2[n:]\n",
    "lr_list = remain_list + left_list\n",
    "print(lr_list)\n",
    "\n",
    "# right rotation\n",
    "right_list = lr_list[-n:]\n",
    "remain_list = lr_list[:-n]\n",
    "rr_list = right_list + remain_list\n",
    "print(rr_list)"
   ]
  },
  {
   "cell_type": "code",
   "execution_count": 110,
   "id": "0e0d097c-d79c-48fb-8de2-d868598a5a11",
   "metadata": {},
   "outputs": [
    {
     "name": "stdout",
     "output_type": "stream",
     "text": [
      "[1, 2, 3, 5, 7, 11, 13, 17, 19, 23, 29, 31, 37, 41, 43, 47]\n"
     ]
    }
   ],
   "source": [
    "# 33. list of prime numbers upto 50\n",
    "standard_primes = [1,2,3,5,7]\n",
    "l = [n for n in range(2,50) if (not(n%2 == 0 or n%3 == 0 or n%5 == 0 or n%7 == 0))]\n",
    "full_primes = standard_primes + l\n",
    "print(full_primes)"
   ]
  },
  {
   "cell_type": "code",
   "execution_count": 120,
   "id": "e8bdc6f7-fb70-46d5-9efb-4ec089d366c5",
   "metadata": {},
   "outputs": [
    {
     "name": "stdin",
     "output_type": "stream",
     "text": [
      "Enter chunk size  2\n"
     ]
    },
    {
     "name": "stdout",
     "output_type": "stream",
     "text": [
      "8\n",
      "[[1, 2], [3, 4], [5, 6], [7, 8], [9, 10], [11, 12], [13, 14], [15, 16], [17]]\n"
     ]
    }
   ],
   "source": [
    "# 34. Split a list into chunks of size `n`.\n",
    "import math\n",
    "l = [1,2,3,4,5,6,7,8,9,10,11,12,13,14,15,16,17]\n",
    "total_len = len(l)\n",
    "chunked_list = []\n",
    "n = int(input(\"Enter chunk size \"))\n",
    "cn = math.floor(len(l)/n)\n",
    "print(cn)\n",
    "i = 0\n",
    "s_idx = 0\n",
    "e_idx = n\n",
    "while i < cn and s_idx < total_len and e_idx < total_len:\n",
    "    child_list = l[s_idx:e_idx]\n",
    "    chunked_list.append(child_list)\n",
    "    s_idx = e_idx\n",
    "    e_idx = e_idx + n\n",
    "    i += 1\n",
    "\n",
    "if e_idx > total_len:\n",
    "    remain_list = l[s_idx:total_len]\n",
    "    chunked_list.append(remain_list)\n",
    "\n",
    "print(chunked_list)"
   ]
  },
  {
   "cell_type": "code",
   "execution_count": 122,
   "id": "839cf33a-3a36-4c9a-a833-7ad82305f25b",
   "metadata": {},
   "outputs": [
    {
     "name": "stdout",
     "output_type": "stream",
     "text": [
      "[1, 2, 3, 4, 5, 6, 7, 8, 9, 10, 11, 12, 13, 14, 15, 16, 17]\n",
      "second largest: 16\n"
     ]
    }
   ],
   "source": [
    "# 35. Find 2nd largest\n",
    "print(l)\n",
    "l2 = sorted(l)\n",
    "print(f\"second largest: {l2[-2]}\")"
   ]
  },
  {
   "cell_type": "code",
   "execution_count": 123,
   "id": "89e86aa0-6170-4722-8186-02a097dd3f5a",
   "metadata": {},
   "outputs": [
    {
     "data": {
      "text/plain": [
       "[1, 4, 9, 16, 25, 36, 49, 64, 81, 100, 121, 144, 169, 196, 225, 256, 289]"
      ]
     },
     "execution_count": 123,
     "metadata": {},
     "output_type": "execute_result"
    }
   ],
   "source": [
    "# 36 - Replace every element in a list with its square.\n",
    "[n**2 for n in l]"
   ]
  },
  {
   "cell_type": "code",
   "execution_count": 125,
   "id": "e30fe6c8-ab08-4948-85c0-6ab3fe669f0f",
   "metadata": {},
   "outputs": [
    {
     "name": "stdout",
     "output_type": "stream",
     "text": [
      "[1, 2, 3, 4, 5, 6, 7, 8, 9, 10, 11, 12, 13, 14, 15, 16, 17]\n",
      "{1: 0, 2: 1, 3: 2, 4: 3, 5: 4, 6: 5, 7: 6, 8: 7, 9: 8, 10: 9, 11: 10, 12: 11, 13: 12, 14: 13, 15: 14, 16: 15, 17: 16}\n"
     ]
    }
   ],
   "source": [
    "# 37 - Convert a list to a dictionary where list elements become keys and their indices become values.\n",
    "print(l)\n",
    "d = {}\n",
    "for i in range(0, len(l)):\n",
    "    d[l[i]] = i\n",
    "print(d)"
   ]
  },
  {
   "cell_type": "code",
   "execution_count": 126,
   "id": "c5e47644-c5fc-467b-b34c-b032158b058d",
   "metadata": {},
   "outputs": [
    {
     "name": "stdout",
     "output_type": "stream",
     "text": [
      "[1, 2, 3, 4, 5, 6, 7, 8, 9, 10, 11, 12, 13, 14, 15, 16, 17]\n",
      "[14, 13, 9, 2, 16, 3, 17, 11, 12, 8, 4, 7, 1, 5, 6, 15, 10]\n"
     ]
    }
   ],
   "source": [
    "# 38. Shuffle the elements of a list randomly.\n",
    "import random\n",
    "print(l)\n",
    "new_list = random.sample(l, len(l))\n",
    "print(new_list)"
   ]
  },
  {
   "cell_type": "code",
   "execution_count": 129,
   "id": "a689b7a0-6238-4122-90ed-8276e01df455",
   "metadata": {},
   "outputs": [
    {
     "name": "stdout",
     "output_type": "stream",
     "text": [
      "[1, 2, 6, 24, 120, 720, 5040, 40320, 362880, 3628800]\n"
     ]
    }
   ],
   "source": [
    "# 39. Create a list of the first 10 factorial numbers.\n",
    "factorial = []\n",
    "factorial.append(1)\n",
    "factorial.append(2)\n",
    "for n in range(3,11):\n",
    "    factorial.append(n * factorial[n-1-1])\n",
    "print(factorial)"
   ]
  },
  {
   "cell_type": "code",
   "execution_count": 132,
   "id": "53a90904-a6b7-433f-95eb-ed2c28657f22",
   "metadata": {},
   "outputs": [
    {
     "data": {
      "text/plain": [
       "[]"
      ]
     },
     "execution_count": 132,
     "metadata": {},
     "output_type": "execute_result"
    }
   ],
   "source": [
    "# 40. Check if two lists have at least one element in common.\n",
    "l1 = [1,3,5,7,9]\n",
    "l2 = [2,4,6,8,10]\n",
    "[n for n in l1 if n in l2]"
   ]
  },
  {
   "cell_type": "code",
   "execution_count": 133,
   "id": "e82f5d3b-8684-47e5-af29-1046d9ce24e0",
   "metadata": {},
   "outputs": [
    {
     "name": "stdout",
     "output_type": "stream",
     "text": [
      "[1, 3, 5, 7, 9]\n",
      "[]\n"
     ]
    }
   ],
   "source": [
    "# 41. Remove all elements from a list.\n",
    "print(l1)\n",
    "l1.clear()\n",
    "print(l1)"
   ]
  },
  {
   "cell_type": "code",
   "execution_count": 134,
   "id": "be4f79c9-227f-49a5-a550-074640381ac9",
   "metadata": {},
   "outputs": [
    {
     "name": "stdout",
     "output_type": "stream",
     "text": [
      "[1, 0, 2, 0, 3, 0, 4, 0]\n"
     ]
    }
   ],
   "source": [
    "# 42. Replace negative numbers in a list with 0.\n",
    "l = [1,-1,2,-2,3,-3,4,-4]\n",
    "for i in range(0,len(l)):\n",
    "    if (l[i] < 0):\n",
    "        l[i] = 0\n",
    "print(l)"
   ]
  },
  {
   "cell_type": "code",
   "execution_count": 136,
   "id": "7f68e90f-126d-4aca-a075-208b45bd5f87",
   "metadata": {},
   "outputs": [
    {
     "name": "stdout",
     "output_type": "stream",
     "text": [
      "['full', 'stack', 'data', 'science', 'pro']\n",
      " full stack data science pro\n"
     ]
    }
   ],
   "source": [
    "# 43 & 44. Convert a string into a list of words.\n",
    "my_str = \"full stack data science pro\"\n",
    "sl = my_str.split()\n",
    "print(sl)\n",
    "new_str = \"\"\n",
    "for w in sl:\n",
    "    new_str = new_str + \" \" + w\n",
    "\n",
    "print(new_str)"
   ]
  },
  {
   "cell_type": "code",
   "execution_count": 138,
   "id": "e2681696-136d-4145-b23c-d4584d57c0c8",
   "metadata": {},
   "outputs": [
    {
     "name": "stdin",
     "output_type": "stream",
     "text": [
      "Enter the value of 'n' :  5\n"
     ]
    },
    {
     "data": {
      "text/plain": [
       "[2, 4, 8, 16, 32]"
      ]
     },
     "execution_count": 138,
     "metadata": {},
     "output_type": "execute_result"
    }
   ],
   "source": [
    "# 45. Create a list of the first `n` powers of 2.\n",
    "n = int(input(\"Enter the value of 'n' : \"))\n",
    "[2**n for n in range(1,n+1)]\n"
   ]
  },
  {
   "cell_type": "code",
   "execution_count": 141,
   "id": "ba73192d-103f-48ea-b08d-82ca32544137",
   "metadata": {},
   "outputs": [
    {
     "name": "stdout",
     "output_type": "stream",
     "text": [
      "['full', 'stack', 'data', 'science', 'pro']\n",
      "longest string: science\n"
     ]
    }
   ],
   "source": [
    "# 46. Find the longest string in a list of strings.\n",
    "print(sl)\n",
    "lw = 0\n",
    "word = \"\"\n",
    "for w in sl:\n",
    "    if lw <= len(w):\n",
    "        lw = len(w)\n",
    "        word = w\n",
    "print(f\"longest string: {word}\")"
   ]
  },
  {
   "cell_type": "code",
   "execution_count": 142,
   "id": "d52b2aff-898e-41ab-a051-dea4bb4a2c6f",
   "metadata": {},
   "outputs": [
    {
     "name": "stdout",
     "output_type": "stream",
     "text": [
      "['full', 'stack', 'data', 'science', 'pro']\n",
      "shortest string: pro\n"
     ]
    }
   ],
   "source": [
    "# 47. Find the shortest string in a list of strings.\n",
    "print(sl)\n",
    "sw = len(sl)\n",
    "word = \"\"\n",
    "for w in sl:\n",
    "    if sw >= len(w):\n",
    "        sw = len(w)\n",
    "        word = w\n",
    "print(f\"shortest string: {word}\")"
   ]
  },
  {
   "cell_type": "code",
   "execution_count": 147,
   "id": "3fc36281-6f15-4081-a11f-50023a038f8c",
   "metadata": {},
   "outputs": [
    {
     "name": "stdout",
     "output_type": "stream",
     "text": [
      "[1, 2, 3, 4, 5, 6, 7, 8, 9]\n",
      "[1, 3, 6, 10, 15, 21, 28, 36, 45]\n"
     ]
    }
   ],
   "source": [
    "# 48. Create a list of the first `n` triangular numbers.\n",
    "l = [n for n in range(1,10)]\n",
    "print(l)\n",
    "triangular = []\n",
    "for n in l:\n",
    "    sum = 0\n",
    "    for s in range(0,n+1):\n",
    "        sum += s\n",
    "    triangular.append(sum)\n",
    "print(triangular)"
   ]
  },
  {
   "cell_type": "code",
   "execution_count": 143,
   "id": "47b4524d-57c1-4489-8a47-ab01ea0cadc7",
   "metadata": {},
   "outputs": [
    {
     "name": "stdout",
     "output_type": "stream",
     "text": [
      "list has another list\n"
     ]
    }
   ],
   "source": [
    "# 49. Check if a list contains another list as a subsequence.\n",
    "ll = [1,2,3,[4,5,6], 7,8]\n",
    "for l in ll:\n",
    "    if type(l) == type(ll):\n",
    "        print(\"list has another list\")"
   ]
  },
  {
   "cell_type": "code",
   "execution_count": 145,
   "id": "dfc93de7-cfc9-41be-8be9-56fab468b24f",
   "metadata": {},
   "outputs": [
    {
     "name": "stdin",
     "output_type": "stream",
     "text": [
      "Enter first index:  3\n",
      "Enter second index:  4\n"
     ]
    },
    {
     "name": "stdout",
     "output_type": "stream",
     "text": [
      "[1, 2, 3, 5, 4, 6]\n"
     ]
    }
   ],
   "source": [
    "# 50. Swap two elements in a list by their indices.\n",
    "l1 = [1,2,3,4,5,6]\n",
    "m = int(input(\"Enter first index: \"))\n",
    "n = int(input(\"Enter second index: \"))\n",
    "l = len(l1)\n",
    "if m < l and n < l:\n",
    "    l1[m],l1[n]=l1[n],l1[m]\n",
    "print(l1)"
   ]
  },
  {
   "cell_type": "code",
   "execution_count": null,
   "id": "f3eb765c-5e62-4b5a-99b0-bbd49aeac7ed",
   "metadata": {},
   "outputs": [],
   "source": []
  }
 ],
 "metadata": {
  "kernelspec": {
   "display_name": "Python 3 (ipykernel)",
   "language": "python",
   "name": "python3"
  },
  "language_info": {
   "codemirror_mode": {
    "name": "ipython",
    "version": 3
   },
   "file_extension": ".py",
   "mimetype": "text/x-python",
   "name": "python",
   "nbconvert_exporter": "python",
   "pygments_lexer": "ipython3",
   "version": "3.10.8"
  }
 },
 "nbformat": 4,
 "nbformat_minor": 5
}
