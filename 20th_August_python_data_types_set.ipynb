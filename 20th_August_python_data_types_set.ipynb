{
 "cells": [
  {
   "cell_type": "code",
   "execution_count": 2,
   "id": "786f2f88-66d0-4675-a975-0dbd3fe24095",
   "metadata": {},
   "outputs": [
    {
     "name": "stdout",
     "output_type": "stream",
     "text": [
      "{1, 2, 3, 4, 5}\n"
     ]
    }
   ],
   "source": [
    "# 1. Create a set with integers from 1 to 5.\n",
    "s=set(range(1,6))\n",
    "print(s)"
   ]
  },
  {
   "cell_type": "code",
   "execution_count": 3,
   "id": "8774eb10-d109-43ea-a32a-cf0ff7c2f1e9",
   "metadata": {},
   "outputs": [
    {
     "name": "stdout",
     "output_type": "stream",
     "text": [
      "{1, 2, 3, 4, 5, 6}\n"
     ]
    }
   ],
   "source": [
    "# 2. Add an element to a set.\n",
    "s.add(6)\n",
    "print(s)"
   ]
  },
  {
   "cell_type": "code",
   "execution_count": 4,
   "id": "1d57581d-1afa-4e97-98c2-124124031049",
   "metadata": {},
   "outputs": [
    {
     "name": "stdout",
     "output_type": "stream",
     "text": [
      "{1, 2, 3, 4, 5}\n"
     ]
    }
   ],
   "source": [
    "# 3. Remove an element from a set.\n",
    "s.remove(6)\n",
    "print(s)"
   ]
  },
  {
   "cell_type": "code",
   "execution_count": 5,
   "id": "4a1a8a7d-f939-410d-9be8-73132c4e272f",
   "metadata": {},
   "outputs": [
    {
     "name": "stdout",
     "output_type": "stream",
     "text": [
      "2 exists in set\n"
     ]
    }
   ],
   "source": [
    "# 4. Check if an element exists in a set.\n",
    "if 2 in s:\n",
    "    print(\"2 exists in set\")"
   ]
  },
  {
   "cell_type": "code",
   "execution_count": 7,
   "id": "36d87521-4ce7-4a92-ab05-5842828f15c6",
   "metadata": {},
   "outputs": [
    {
     "name": "stdout",
     "output_type": "stream",
     "text": [
      "{1, 2, 3, 4, 5}\n",
      "5\n"
     ]
    }
   ],
   "source": [
    "# 5. Find the length of a set without using the `len()` function\n",
    "cnt=0\n",
    "print(s)\n",
    "for i in s:\n",
    "    cnt+=1\n",
    "print(cnt)"
   ]
  },
  {
   "cell_type": "code",
   "execution_count": 8,
   "id": "7d0d3631-fba9-43a2-9345-20cd9ffbeac0",
   "metadata": {},
   "outputs": [
    {
     "name": "stdout",
     "output_type": "stream",
     "text": [
      "{1, 2, 3, 4, 5}\n",
      "set()\n"
     ]
    }
   ],
   "source": [
    "# 6. Clear all elements from a set.\n",
    "print(s)\n",
    "s.clear()\n",
    "print(s)"
   ]
  },
  {
   "cell_type": "code",
   "execution_count": 9,
   "id": "11b04473-879f-43f7-8be5-27b4970fa2a1",
   "metadata": {},
   "outputs": [
    {
     "name": "stdout",
     "output_type": "stream",
     "text": [
      "{2, 4, 6, 8, 10}\n"
     ]
    }
   ],
   "source": [
    "# 7. Create a set of even numbers from 1 to 10.\n",
    "s_even=set([n for n in range(1,11) if n%2==0])\n",
    "print(s_even)"
   ]
  },
  {
   "cell_type": "code",
   "execution_count": 10,
   "id": "89482d03-d684-494c-9ac5-3d795268e16b",
   "metadata": {},
   "outputs": [
    {
     "name": "stdout",
     "output_type": "stream",
     "text": [
      "{1, 3, 5, 7, 9}\n"
     ]
    }
   ],
   "source": [
    "# 8. Create a set of odd numbers from 1 to 10.\n",
    "s_odd=set([n for n in range(1,11) if n%2!=0])\n",
    "print(s_odd)"
   ]
  },
  {
   "cell_type": "code",
   "execution_count": 13,
   "id": "1bb4d4da-d70e-4241-8096-565ef8a96a25",
   "metadata": {},
   "outputs": [
    {
     "name": "stdout",
     "output_type": "stream",
     "text": [
      "{1, 2, 3, 4, 5, 6, 7, 8, 9, 10}\n"
     ]
    }
   ],
   "source": [
    "# 9. Find the union of two sets.\n",
    "s_union=s_even.union(s_odd)\n",
    "print(s_union)"
   ]
  },
  {
   "cell_type": "code",
   "execution_count": 14,
   "id": "b4dbb693-918f-47a4-ba64-2b93a90b59ef",
   "metadata": {},
   "outputs": [
    {
     "name": "stdout",
     "output_type": "stream",
     "text": [
      "{2, 4, 6, 8, 10}\n"
     ]
    }
   ],
   "source": [
    "# 10. Find the intersection of two sets.\n",
    "s_intersect=s.intersection(s_even)\n",
    "print(s_intersect)"
   ]
  },
  {
   "cell_type": "code",
   "execution_count": 15,
   "id": "e642ffc4-143f-4741-acad-fb83e0798b76",
   "metadata": {},
   "outputs": [
    {
     "name": "stdout",
     "output_type": "stream",
     "text": [
      "{1, 3, 5, 7, 9}\n"
     ]
    }
   ],
   "source": [
    "# 11. Find the difference between two sets.\n",
    "s_diff=s.difference(s_even)\n",
    "print(s_diff)"
   ]
  },
  {
   "cell_type": "code",
   "execution_count": 21,
   "id": "2e41c864-38a7-4cfe-8d92-a9b849528610",
   "metadata": {},
   "outputs": [
    {
     "name": "stdout",
     "output_type": "stream",
     "text": [
      "{2, 4, 6, 8, 10} is subset of {1, 2, 3, 4, 5, 6, 7, 8, 9, 10}\n"
     ]
    }
   ],
   "source": [
    "# 12. Check if a set is a subset of another set.\n",
    "if s_even.issubset(s):\n",
    "    print(f\"{s_even} is subset of {s}\")"
   ]
  },
  {
   "cell_type": "code",
   "execution_count": 22,
   "id": "1081c62f-2152-4cb5-9c98-33045bd078a8",
   "metadata": {},
   "outputs": [
    {
     "name": "stdout",
     "output_type": "stream",
     "text": [
      "{1, 2, 3, 4, 5, 6, 7, 8, 9, 10} is superset of {2, 4, 6, 8, 10}\n"
     ]
    }
   ],
   "source": [
    "# 13. Check if a set is a superset of another set.\n",
    "if s.issuperset(s_even):\n",
    "    print(f\"{s} is superset of {s_even}\")"
   ]
  },
  {
   "cell_type": "code",
   "execution_count": 23,
   "id": "522961c0-98d6-4f58-b2f9-ff4768fb44ae",
   "metadata": {},
   "outputs": [
    {
     "name": "stdout",
     "output_type": "stream",
     "text": [
      "{1, 2, 3, 4, 5, 6, 7, 8, 9}\n"
     ]
    }
   ],
   "source": [
    "# 14. Create a set from a list.\n",
    "s1=set(range(1,10))\n",
    "print(s1)"
   ]
  },
  {
   "cell_type": "code",
   "execution_count": 24,
   "id": "5f1f290f-2c25-4f18-8c6d-4245ac72814d",
   "metadata": {},
   "outputs": [
    {
     "name": "stdout",
     "output_type": "stream",
     "text": [
      "[1, 2, 3, 4, 5, 6, 7, 8, 9]\n"
     ]
    }
   ],
   "source": [
    "# 15. Convert a set to a list.\n",
    "l1=list(s1)\n",
    "print(l1)"
   ]
  },
  {
   "cell_type": "code",
   "execution_count": 34,
   "id": "a779cf03-cf3f-4745-b696-2d3e5476f6aa",
   "metadata": {},
   "outputs": [
    {
     "name": "stdout",
     "output_type": "stream",
     "text": [
      "[1, 2, 3, 4, 5, 6, 7, 8, 9, 10]\n",
      "6\n",
      "{1, 2, 3, 4, 5, 7, 8, 9, 10}\n"
     ]
    }
   ],
   "source": [
    "# 16. Remove a random element from a set.\n",
    "import random\n",
    "s1=set(range(1,11))\n",
    "l1=list(s1)\n",
    "print(l1)\n",
    "ele=random.choice(l1)\n",
    "print(ele)\n",
    "s1.remove(ele)\n",
    "print(s1)"
   ]
  },
  {
   "cell_type": "code",
   "execution_count": 35,
   "id": "477d47c2-2c6c-4aa9-a78c-7afc470bc285",
   "metadata": {},
   "outputs": [
    {
     "name": "stdout",
     "output_type": "stream",
     "text": [
      "{2, 3, 4, 5, 7, 8, 9, 10}\n"
     ]
    }
   ],
   "source": [
    "# 17. Pop an element from a set.\n",
    "s1.pop()\n",
    "print(s1)"
   ]
  },
  {
   "cell_type": "code",
   "execution_count": 37,
   "id": "bf06a29f-fb7f-4d86-b377-5d81b301920c",
   "metadata": {},
   "outputs": [
    {
     "name": "stdout",
     "output_type": "stream",
     "text": [
      "{2, 4, 6, 8, 10}\n",
      "{1, 3, 5, 7, 9}\n",
      "There is null intersection\n"
     ]
    }
   ],
   "source": [
    "# 18. Check if two sets have no elements in common.\n",
    "print(s_even)\n",
    "print(s_odd)\n",
    "if s_even.isdisjoint(s_odd):\n",
    "    print(\"There is null intersection\")"
   ]
  },
  {
   "cell_type": "code",
   "execution_count": 38,
   "id": "7ea7c436-6a67-4251-877e-d5fdffe273b5",
   "metadata": {},
   "outputs": [
    {
     "name": "stdout",
     "output_type": "stream",
     "text": [
      "{1, 3, 5, 7, 9}\n"
     ]
    }
   ],
   "source": [
    "# 19. Find the symmetric difference between two sets.\n",
    "s=set(range(1,11))\n",
    "ss_diff=s.symmetric_difference(s_even)\n",
    "print(ss_diff)"
   ]
  },
  {
   "cell_type": "code",
   "execution_count": 39,
   "id": "4b4dc383-d67f-44ec-945d-af3b3647f79f",
   "metadata": {},
   "outputs": [
    {
     "name": "stdout",
     "output_type": "stream",
     "text": [
      "{1, 2, 3, 4, 5, 6, 7, 9, 8, 10}\n"
     ]
    }
   ],
   "source": [
    "# 20. Update a set with elements from another set.\n",
    "ss_diff.update(s_even)\n",
    "print(ss_diff)"
   ]
  },
  {
   "cell_type": "code",
   "execution_count": 42,
   "id": "45382145-fbc1-4bfe-8200-e2e3ef9e851c",
   "metadata": {},
   "outputs": [
    {
     "name": "stdout",
     "output_type": "stream",
     "text": [
      "[2, 3, 5, 7, 11, 13, 17, 19]\n",
      "{2, 3, 5, 7, 11}\n"
     ]
    }
   ],
   "source": [
    "# 21. Create a set of the first 5 prime numbers.\n",
    "prime=[]\n",
    "l=range(1,20)\n",
    "for n in range(2,20):\n",
    "    isprime=True\n",
    "    for i in range(2,n):\n",
    "        if n%i == 0:\n",
    "            isprime=False\n",
    "            break\n",
    "    if isprime:\n",
    "        prime.append(n)\n",
    "print(prime)\n",
    "s_prime=set(prime[:5])\n",
    "print(s_prime)"
   ]
  },
  {
   "cell_type": "code",
   "execution_count": 45,
   "id": "7d5d1c1c-c789-40be-94ab-0c92457aa1a5",
   "metadata": {},
   "outputs": [
    {
     "name": "stdout",
     "output_type": "stream",
     "text": [
      "{1, 3, 5, 7, 9}\n",
      "{1, 3, 5, 7, 9}\n",
      "Identical sets\n"
     ]
    }
   ],
   "source": [
    "# 22. Check if two sets are identical.\n",
    "s=set(range(1,11))\n",
    "ss_diff=s.symmetric_difference(s_even)\n",
    "print(ss_diff)\n",
    "print(s_odd)\n",
    "if ss_diff == s_odd:\n",
    "    print(\"Identical sets\")\n",
    "else:\n",
    "    print(\"Non-identical sets\")"
   ]
  },
  {
   "cell_type": "code",
   "execution_count": 46,
   "id": "a4815d07-83be-44b2-afa7-894fdfa11367",
   "metadata": {},
   "outputs": [
    {
     "name": "stdout",
     "output_type": "stream",
     "text": [
      "frozenset({1, 2, 3, 4, 5, 6, 7, 8, 9, 10})\n"
     ]
    }
   ],
   "source": [
    "# 23. Create a frozen set.\n",
    "fs=frozenset(range(1,11))\n",
    "print(fs)"
   ]
  },
  {
   "cell_type": "code",
   "execution_count": 47,
   "id": "0de24ec7-f56f-4b87-8888-74488e4cc8aa",
   "metadata": {},
   "outputs": [
    {
     "name": "stdout",
     "output_type": "stream",
     "text": [
      "Disjoint sets\n"
     ]
    }
   ],
   "source": [
    "# 24. Check if a set is disjoint with another set.\n",
    "if s_odd.isdisjoint(s_even):\n",
    "    print(\"Disjoint sets\")\n",
    "else:\n",
    "    print(\"Non-disjoint sets\")"
   ]
  },
  {
   "cell_type": "code",
   "execution_count": 48,
   "id": "45f9620c-8a8c-47cb-bc12-525fdf04075a",
   "metadata": {},
   "outputs": [
    {
     "name": "stdout",
     "output_type": "stream",
     "text": [
      "{1, 4, 9, 16, 25}\n"
     ]
    }
   ],
   "source": [
    "# 25. Create a set of squares of numbers from 1 to 5.\n",
    "s_sq=set([n**2 for n in range(1,6)])\n",
    "print(s_sq)"
   ]
  },
  {
   "cell_type": "code",
   "execution_count": 49,
   "id": "688f2f34-bea8-474e-9787-f89cd2f51e34",
   "metadata": {},
   "outputs": [
    {
     "name": "stdout",
     "output_type": "stream",
     "text": [
      "{1, 2, 3, 4, 5, 6, 7, 8, 9, 10, 11, 12, 13, 14, 15, 16, 17, 18, 19, 20}\n",
      "{2, 4, 6, 8, 10, 12, 14, 16, 18, 20}\n"
     ]
    }
   ],
   "source": [
    "# 26. Filter out all even numbers from a set.\n",
    "s_orig=set(range(1,21))\n",
    "print(s_orig)\n",
    "s_filter=set([n for n in s_orig if n%2==0])\n",
    "print(s_filter)"
   ]
  },
  {
   "cell_type": "code",
   "execution_count": 50,
   "id": "2fcbaae6-fba7-4652-8113-b8532b1dca9c",
   "metadata": {},
   "outputs": [
    {
     "name": "stdout",
     "output_type": "stream",
     "text": [
      "{2, 4, 6, 8, 10, 12, 14, 16, 18, 20, 22, 24, 26, 28, 30, 32, 34, 36, 38, 40}\n"
     ]
    }
   ],
   "source": [
    "# 27. Multiply all elements in a set by 2.\n",
    "s_multiply=set([n*2 for n in s_orig])\n",
    "print(s_multiply)"
   ]
  },
  {
   "cell_type": "code",
   "execution_count": 51,
   "id": "b9cc6ea2-199b-4014-a83d-8f4ce44f43b0",
   "metadata": {},
   "outputs": [
    {
     "name": "stdout",
     "output_type": "stream",
     "text": [
      "{4, 9, 15, 16, 23, 25, 31, 42, 46, 57, 68, 71, 73, 78, 81, 83, 90, 91, 92, 95}\n"
     ]
    }
   ],
   "source": [
    "# 28. Create a set of random numbers.\n",
    "import random\n",
    "s_random=set(random.sample(range(1,100), 20))\n",
    "print(s_random)"
   ]
  },
  {
   "cell_type": "code",
   "execution_count": 52,
   "id": "b0712641-4b49-4bee-894b-7174a8f8611f",
   "metadata": {},
   "outputs": [
    {
     "name": "stdout",
     "output_type": "stream",
     "text": [
      "{1, 2, 3, 4, 5, 6, 7, 8, 9}\n",
      "set()\n"
     ]
    }
   ],
   "source": [
    "# 29. Check if a set is empty.\n",
    "s_empty=set(range(1,10))\n",
    "print(s_empty)\n",
    "s_empty.clear()\n",
    "print(s_empty)"
   ]
  },
  {
   "cell_type": "code",
   "execution_count": 57,
   "id": "b3b94c9e-5398-4ba0-8e6d-f5272b0bff49",
   "metadata": {},
   "outputs": [
    {
     "name": "stdout",
     "output_type": "stream",
     "text": [
      "{1, 2, 3, 4, 5, 6, 7, 8, 9, 10, 15, 16, 23, 25, 31, 42, 46, 57, 68, 71, 73, 78, 81, 83, 90, 91, 92, 95, frozenset({1, 2, 3, 4, 5, 6, 7, 8, 9, 10})}\n",
      "<class 'frozenset'>\n"
     ]
    }
   ],
   "source": [
    "# 30. Create a nested set (hint: use frozenset).\n",
    "s_random.update(fs)\n",
    "print(s_random)\n",
    "print(type(fs))"
   ]
  },
  {
   "cell_type": "code",
   "execution_count": 58,
   "id": "94b7c4ef-8d23-41e8-8e11-28e054a182de",
   "metadata": {},
   "outputs": [
    {
     "name": "stdout",
     "output_type": "stream",
     "text": [
      "{1, 2, 3, 4, 5, 6, 7, 8, 9, 10}\n",
      "{1, 2, 3, 4, 6, 7, 8, 9, 10}\n"
     ]
    }
   ],
   "source": [
    "# 31. Remove an element from a set using the discard method.\n",
    "s = set(range(1,11))\n",
    "print(s)\n",
    "s.discard(5)\n",
    "print(s)"
   ]
  },
  {
   "cell_type": "code",
   "execution_count": 60,
   "id": "a4e8b4e4-e293-4f74-a54a-08310fd2ee54",
   "metadata": {},
   "outputs": [
    {
     "name": "stdout",
     "output_type": "stream",
     "text": [
      "non-identical\n"
     ]
    }
   ],
   "source": [
    "# 32. Compare two sets.\n",
    "s1 = set(range(1,11))\n",
    "s2 = set(range(1,13))\n",
    "if s1 == s2:\n",
    "    print(\"same sets\")\n",
    "else:\n",
    "    print(\"non-identical\")"
   ]
  },
  {
   "cell_type": "code",
   "execution_count": 61,
   "id": "42c548fc-1c30-40b8-bde2-475a0fb35177",
   "metadata": {},
   "outputs": [
    {
     "name": "stdout",
     "output_type": "stream",
     "text": [
      "{'from', 'a', 'Create', 'string', 'set'}\n"
     ]
    }
   ],
   "source": [
    "# 33. Create a set from a string.\n",
    "s_string=set(\"Create a set from a string\".split())\n",
    "print(s_string)"
   ]
  },
  {
   "cell_type": "code",
   "execution_count": 67,
   "id": "eabbf367-085c-4f50-9878-f670459cf433",
   "metadata": {},
   "outputs": [
    {
     "name": "stdout",
     "output_type": "stream",
     "text": [
      "{'4', '3', '10', '7', '6', '9', '5', '8', '1', '2'}\n",
      "{1, 2, 3, 4, 5, 6, 7, 8, 9, 10}\n"
     ]
    }
   ],
   "source": [
    "# 34. Convert a set of strings to a set of integers.\n",
    "s_string=set(str(n) for n in range(1,11))\n",
    "print(s_string)\n",
    "int_num=set(int(n) for n in str_num)\n",
    "print(int_num)"
   ]
  },
  {
   "cell_type": "code",
   "execution_count": 68,
   "id": "6ebdb3f4-a193-487f-938c-5c369342c62d",
   "metadata": {},
   "outputs": [
    {
     "name": "stdout",
     "output_type": "stream",
     "text": [
      "{'4', '3', '10', '7', '6', '9', '5', '8', '1', '2'}\n"
     ]
    }
   ],
   "source": [
    "# 35. Convert a set of integers to a set of strings.\n",
    "s_string=set(str(n) for n in int_num)\n",
    "print(s_string)"
   ]
  },
  {
   "cell_type": "code",
   "execution_count": 69,
   "id": "de17f941-cbb7-4da8-9a3a-70e69a96e116",
   "metadata": {},
   "outputs": [
    {
     "name": "stdout",
     "output_type": "stream",
     "text": [
      "{1, 2, 3, 4, 5, 6, 7, 8, 9}\n"
     ]
    }
   ],
   "source": [
    "# 36. Create a set from a tuple.\n",
    "t=tuple(range(1,10))\n",
    "s_tuple=set(t)\n",
    "print(s_tuple)"
   ]
  },
  {
   "cell_type": "code",
   "execution_count": 70,
   "id": "69b1abd3-a0c8-4b54-ba97-ccbab29b4c01",
   "metadata": {},
   "outputs": [
    {
     "name": "stdout",
     "output_type": "stream",
     "text": [
      "(1, 2, 3, 4, 5, 6, 7, 8, 9)\n"
     ]
    }
   ],
   "source": [
    "# 37. Convert a set to a tuple.\n",
    "t_tuple=tuple(s_tuple)\n",
    "print(t_tuple)"
   ]
  },
  {
   "cell_type": "code",
   "execution_count": 71,
   "id": "02f7494f-7578-4c87-b612-1be3f1b2587c",
   "metadata": {},
   "outputs": [
    {
     "name": "stdout",
     "output_type": "stream",
     "text": [
      "9\n"
     ]
    }
   ],
   "source": [
    "# 38. Find the maximum value in a set.\n",
    "max_set=max(s_tuple)\n",
    "print(max_set)"
   ]
  },
  {
   "cell_type": "code",
   "execution_count": 72,
   "id": "f611c911-13ed-4d9e-b23a-10e549f399b3",
   "metadata": {},
   "outputs": [
    {
     "name": "stdout",
     "output_type": "stream",
     "text": [
      "1\n"
     ]
    }
   ],
   "source": [
    "# 39. Find the minimum value in a set.\n",
    "min_set=min(s_tuple)\n",
    "print(min_set)"
   ]
  },
  {
   "cell_type": "code",
   "execution_count": 74,
   "id": "4327c185-885b-48e5-ad8d-0aced3262d58",
   "metadata": {},
   "outputs": [
    {
     "name": "stdin",
     "output_type": "stream",
     "text": [
      "Enter comma separated input:  1,2,3,4,5,6,7\n"
     ]
    },
    {
     "name": "stdout",
     "output_type": "stream",
     "text": [
      "{'4', '3', '7', '6', '5', '1', '2'}\n"
     ]
    }
   ],
   "source": [
    "# 40. Create a set from user input.\n",
    "s_input=set(input(\"Enter comma separated input: \").split(\",\"))\n",
    "print(s_input)"
   ]
  },
  {
   "cell_type": "code",
   "execution_count": 75,
   "id": "bb4b3f84-ce3c-4e75-a337-db8592ba3129",
   "metadata": {},
   "outputs": [
    {
     "name": "stdout",
     "output_type": "stream",
     "text": [
      "Null intersection\n"
     ]
    }
   ],
   "source": [
    "# 41. Check if the intersection of two sets is empty.\n",
    "if s_even.isdisjoint(s_odd):\n",
    "    print(\"Null intersection\")"
   ]
  },
  {
   "cell_type": "code",
   "execution_count": 77,
   "id": "ea8dd180-e943-468a-84bc-faa66511b24d",
   "metadata": {},
   "outputs": [
    {
     "name": "stdout",
     "output_type": "stream",
     "text": [
      "{1, 2, 3, 5, 8, 13}\n"
     ]
    }
   ],
   "source": [
    "# 42. Create a set of the first 5 Fibonacci numbers.\n",
    "l=range(1,6)\n",
    "f=[]\n",
    "f.append(l[0])\n",
    "f.append(l[1])\n",
    "for i in range(2,6):\n",
    "    f.append(f[i-1]+f[i-2])\n",
    "s_fib=set(f)\n",
    "print(s_fib)"
   ]
  },
  {
   "cell_type": "code",
   "execution_count": 85,
   "id": "e82463b2-fa3d-48ec-a71c-880245b621f5",
   "metadata": {},
   "outputs": [
    {
     "name": "stdout",
     "output_type": "stream",
     "text": [
      "[1, 2, 3, 4, 5]\n",
      "[1, 2, 3, 4, 5, 1, 2, 3, 4, 5]\n",
      "{1, 2, 3, 4, 5}\n"
     ]
    }
   ],
   "source": [
    "# 43. Remove duplicates from a list using sets.\n",
    "l=[n for n in range(1,6)]\n",
    "l = l*2\n",
    "print(l)\n",
    "s = set(l)\n",
    "print(s)\n"
   ]
  },
  {
   "cell_type": "code",
   "execution_count": 94,
   "id": "0cc01e98-8a21-4593-8791-c9d7e0686cb5",
   "metadata": {},
   "outputs": [
    {
     "name": "stdout",
     "output_type": "stream",
     "text": [
      "{1, 2, 3, 4, 5, 6, 7, 8, 9}\n",
      "{1, 2, 3, 4, 5, 6, 7, 8, 9, 10, 11, 12}\n",
      "Few elements donot match\n"
     ]
    }
   ],
   "source": [
    "#44. Check if two sets have the same elements, regardless of their count\n",
    "s1=set(range(1,10))\n",
    "s2=set(range(1,13))\n",
    "print(s1)\n",
    "print(s2)\n",
    "s_diff = s2.difference(s1)\n",
    "empty_set=set()\n",
    "if s_diff == empty_set:\n",
    "    print(\"Two sets have same elements\")\n",
    "else:\n",
    "    print(\"Few elements donot match\")"
   ]
  },
  {
   "cell_type": "code",
   "execution_count": 95,
   "id": "8b55342f-57b6-458c-97aa-ddc4a62eb3fc",
   "metadata": {},
   "outputs": [
    {
     "name": "stdout",
     "output_type": "stream",
     "text": [
      "{32, 64, 2, 128, 4, 256, 512, 8, 16}\n"
     ]
    }
   ],
   "source": [
    "# 45. Create a set of the first `n` powers of 2.\n",
    "s_power = set([2**n for n in range(1,10)])\n",
    "print(s_power)"
   ]
  },
  {
   "cell_type": "code",
   "execution_count": 99,
   "id": "c04e7d0c-72eb-4d19-9b5f-c37e6f6f2b8b",
   "metadata": {},
   "outputs": [
    {
     "name": "stdout",
     "output_type": "stream",
     "text": [
      "{1, 2, 3, 4, 5, 6, 7, 8, 9}\n",
      "[1, 2, 3, 4, 5, 6, 7, 8, 9, 10, 11, 12, 13, 14, 15, 16, 17, 18, 19]\n",
      "{1, 2, 3, 4, 5, 6, 7, 8, 9}\n"
     ]
    }
   ],
   "source": [
    "# 46. Find the common elements between a set and a list.\n",
    "s1 = set(range(1,10))\n",
    "l1 = list(range(1,20))\n",
    "print(s1)\n",
    "print(l1)\n",
    "s2 = set(l1)\n",
    "print(s1.intersection(s2))"
   ]
  },
  {
   "cell_type": "code",
   "execution_count": 101,
   "id": "65488390-76e5-4c45-873b-faa17275a1ed",
   "metadata": {},
   "outputs": [
    {
     "name": "stdout",
     "output_type": "stream",
     "text": [
      "{1, 3, 36, 6, 10, 45, 15, 21, 28}\n"
     ]
    }
   ],
   "source": [
    "# 47. Create a set of the first `n` triangular numbers.\n",
    "triangular=[]\n",
    "s = set(range(1,10))\n",
    "for n in s:\n",
    "    sum=0\n",
    "    for i in range(1,n+1):\n",
    "        sum+=i\n",
    "    triangular.append(sum)\n",
    "s_triangular=set(triangular)\n",
    "print(s_triangular)"
   ]
  },
  {
   "cell_type": "code",
   "execution_count": 2,
   "id": "720fb796-fe37-43e8-817c-c8df77e2f3f0",
   "metadata": {},
   "outputs": [
    {
     "name": "stdout",
     "output_type": "stream",
     "text": [
      "{frozenset({3, 4}), frozenset({1, 2})}\n",
      "nested\n"
     ]
    }
   ],
   "source": [
    "# 48. Check if a set contains another set as a subset.\n",
    "s_nested=set([frozenset({1,2}), frozenset({3,4})])\n",
    "print(s_nested)\n",
    "dummy_set=frozenset()\n",
    "for s in s_nested:\n",
    "    if type(s) == type(dummy_set):\n",
    "        print(\"nested\")\n",
    "        break\n",
    "    else:\n",
    "        print(\"not nested\")"
   ]
  },
  {
   "cell_type": "code",
   "execution_count": 4,
   "id": "28181ff8-440e-4ed7-b6db-b7da542e6eef",
   "metadata": {},
   "outputs": [
    {
     "name": "stdout",
     "output_type": "stream",
     "text": [
      "{0, 1}\n"
     ]
    }
   ],
   "source": [
    "# 49. Create a set of alternating 1s and 0s of length `n`.\n",
    "# You cannot have repetitive elements. No matter what, you only get {1,0}\n",
    "s=set()\n",
    "for n in range(1,11):\n",
    "    if n%2==0:\n",
    "        s.add(1)\n",
    "    else:\n",
    "        s.add(0)\n",
    "print(s)"
   ]
  },
  {
   "cell_type": "code",
   "execution_count": 9,
   "id": "987482be-c88a-4473-8d4a-abb8f6c72efa",
   "metadata": {},
   "outputs": [
    {
     "name": "stdout",
     "output_type": "stream",
     "text": [
      "{1, 2, 3, 4, 5, 6, 7, 8, 9}\n"
     ]
    }
   ],
   "source": [
    "# 50. Merge multiple sets into one.\n",
    "s1=set([1,2,3])\n",
    "s2=set([4,5,6])\n",
    "s3=set([7,8,9])\n",
    "s3=s3.union(s2)\n",
    "s3=s3.union(s1)\n",
    "print(s3)"
   ]
  },
  {
   "cell_type": "code",
   "execution_count": null,
   "id": "89e6b323-9d45-4ecc-b17c-f6ec3524b81e",
   "metadata": {},
   "outputs": [],
   "source": []
  }
 ],
 "metadata": {
  "kernelspec": {
   "display_name": "Python 3 (ipykernel)",
   "language": "python",
   "name": "python3"
  },
  "language_info": {
   "codemirror_mode": {
    "name": "ipython",
    "version": 3
   },
   "file_extension": ".py",
   "mimetype": "text/x-python",
   "name": "python",
   "nbconvert_exporter": "python",
   "pygments_lexer": "ipython3",
   "version": "3.10.8"
  }
 },
 "nbformat": 4,
 "nbformat_minor": 5
}
