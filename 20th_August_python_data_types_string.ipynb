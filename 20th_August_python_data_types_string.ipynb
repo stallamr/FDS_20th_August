{
 "cells": [
  {
   "cell_type": "code",
   "execution_count": 1,
   "id": "cde36f80-7621-422f-b811-c802902810b4",
   "metadata": {},
   "outputs": [
    {
     "name": "stdin",
     "output_type": "stream",
     "text": [
      "Enter a string:  rajesh\n"
     ]
    },
    {
     "name": "stdout",
     "output_type": "stream",
     "text": [
      "Input string is rajesh, reverse string is hsejar\n"
     ]
    }
   ],
   "source": [
    "# 1. reverse a string\n",
    "my_str = input(\"Enter a string: \")\n",
    "rev_str = my_str[::-1]\n",
    "print(f\"Input string is {my_str}, reverse string is {rev_str}\")"
   ]
  },
  {
   "cell_type": "code",
   "execution_count": 3,
   "id": "12f69290-e242-4903-8e61-e1b96b01ffc7",
   "metadata": {},
   "outputs": [
    {
     "name": "stdin",
     "output_type": "stream",
     "text": [
      "Enter a string:  noon\n"
     ]
    },
    {
     "name": "stdout",
     "output_type": "stream",
     "text": [
      "Yes, its palindrome\n"
     ]
    }
   ],
   "source": [
    "# 2. palindrome\n",
    "my_str = input(\"Enter a string: \")\n",
    "rev_str = my_str[::-1]\n",
    "if my_str == rev_str:\n",
    "    print(\"Yes, its palindrome\")\n",
    "else:\n",
    "    print(\"No, it's not a palindrome\")"
   ]
  },
  {
   "cell_type": "code",
   "execution_count": 4,
   "id": "a8114df5-d8d0-489b-bc61-837e90058123",
   "metadata": {},
   "outputs": [
    {
     "name": "stdin",
     "output_type": "stream",
     "text": [
      "Enter a string:  rajesh\n"
     ]
    },
    {
     "name": "stdout",
     "output_type": "stream",
     "text": [
      "Input string: rajesh, upper-case: RAJESH, lower-case: rajesh\n"
     ]
    }
   ],
   "source": [
    "# 3 & 4. uppercase and lowercase\n",
    "my_str = input(\"Enter a string: \")\n",
    "upper_str = my_str.upper()\n",
    "lower_str = upper_str.lower()\n",
    "print(f\"Input string: {my_str}, upper-case: {upper_str}, lower-case: {lower_str}\")"
   ]
  },
  {
   "cell_type": "code",
   "execution_count": 7,
   "id": "dce3d156-e8db-4d44-9eea-607e4922247e",
   "metadata": {},
   "outputs": [
    {
     "name": "stdin",
     "output_type": "stream",
     "text": [
      "Enter a string:  rajesh\n"
     ]
    },
    {
     "name": "stdout",
     "output_type": "stream",
     "text": [
      "No.of vowels: 2, no.of consonants: 4\n"
     ]
    }
   ],
   "source": [
    "# 5 & 6. count no.of vowels and consonants\n",
    "vowels = ['a', 'e', 'i', 'o', 'u']\n",
    "my_str = input(\"Enter a string: \")\n",
    "vcount = 0\n",
    "ccount = 0\n",
    "for s in my_str.lower():\n",
    "    if s in vowels:\n",
    "        vcount += 1\n",
    "    else:\n",
    "        ccount += 1\n",
    "print(f\"No.of vowels: {vcount}, no.of consonants: {ccount}\")"
   ]
  },
  {
   "cell_type": "code",
   "execution_count": 12,
   "id": "94e86ae2-fe35-4dd3-9f52-2d7a84d9421d",
   "metadata": {},
   "outputs": [
    {
     "name": "stdout",
     "output_type": "stream",
     "text": [
      "final string: Fullstackdatasciencepro\n"
     ]
    }
   ],
   "source": [
    "# 7. remove white-space\n",
    "my_str = \"    Full stack data science pro   \"\n",
    "my_str = my_str.replace(\" \", \"\")\n",
    "print(f\"final string: {my_str}\")"
   ]
  },
  {
   "cell_type": "code",
   "execution_count": 13,
   "id": "35287351-4f70-4bf9-8ae2-775982205265",
   "metadata": {},
   "outputs": [
    {
     "name": "stdout",
     "output_type": "stream",
     "text": [
      "Length of string: 27\n"
     ]
    }
   ],
   "source": [
    "# 8. length of string without len()\n",
    "my_str = \"Full stack data science pro\"\n",
    "cnt = 0\n",
    "for c in my_str:\n",
    "    cnt += 1\n",
    "print(f\"Length of string: {cnt}\")"
   ]
  },
  {
   "cell_type": "code",
   "execution_count": 15,
   "id": "15acab2e-53f4-4170-b45c-4b0d71e857b2",
   "metadata": {},
   "outputs": [
    {
     "name": "stdout",
     "output_type": "stream",
     "text": [
      "Full stack data science masters\n"
     ]
    }
   ],
   "source": [
    "# 9 & 10. Find and replace\n",
    "my_str = \"Full stack data science pro\"\n",
    "final_str = my_str.replace(\"pro\", \"masters\")\n",
    "print(final_str)"
   ]
  },
  {
   "cell_type": "code",
   "execution_count": 18,
   "id": "8b9d1987-684e-4eb2-aa35-9b53db25982a",
   "metadata": {},
   "outputs": [
    {
     "name": "stdout",
     "output_type": "stream",
     "text": [
      "fire has occured 6 times\n",
      "First fire is found at 5th index\n",
      "Last fire is found at 54th index\n"
     ]
    }
   ],
   "source": [
    "# 11, 12 & 13. Count and find first & last occurence of word in string\n",
    "my_str = \"when fire fires the fire, fire will be fired. I'm the fire\"\n",
    "cnt = my_str.count(\"fire\")\n",
    "print(f\"fire has occured {cnt} times\")\n",
    "first = my_str.find(\"fire\")\n",
    "print(f\"First fire is found at {first}th index\")\n",
    "last = my_str.rfind(\"fire\")\n",
    "print(f\"Last fire is found at {last}th index\")"
   ]
  },
  {
   "cell_type": "code",
   "execution_count": 21,
   "id": "f3e87d21-87b7-4a5c-87d1-780f39e3ffe2",
   "metadata": {},
   "outputs": [
    {
     "name": "stdout",
     "output_type": "stream",
     "text": [
      "['full', 'stack', 'data', 'science', 'pro']\n",
      " full stack data science pro\n"
     ]
    }
   ],
   "source": [
    "# 14 & 15. Split string to list of words and re-join as string\n",
    "my_str = \"full stack data science pro\"\n",
    "l1 = my_str.split()\n",
    "print(l1)\n",
    "new_str=\"\"\n",
    "for s in l1:\n",
    "    new_str = new_str + \" \"+ s\n",
    "print(new_str)"
   ]
  },
  {
   "cell_type": "code",
   "execution_count": 22,
   "id": "3494341a-e05a-4598-87f8-069233d2692d",
   "metadata": {},
   "outputs": [
    {
     "name": "stdout",
     "output_type": "stream",
     "text": [
      "full_stack_data_science_pro\n"
     ]
    }
   ],
   "source": [
    "# 16. Replace space with _\n",
    "my_str = \"full stack data science pro\"\n",
    "new_str = my_str.replace(\" \", \"_\")\n",
    "print(new_str)"
   ]
  },
  {
   "cell_type": "code",
   "execution_count": 1,
   "id": "4d474e9f-49ec-4c0c-a56f-6d995a4d4834",
   "metadata": {},
   "outputs": [
    {
     "name": "stdout",
     "output_type": "stream",
     "text": [
      "full stack data science pro starts with 'full' \n",
      "full stack data science pro ends with 'pro' \n"
     ]
    }
   ],
   "source": [
    "# 17 & 18. Check if string starts and ends with a word\n",
    "my_str = \"full stack data science pro\"\n",
    "if my_str.startswith(\"full\"):\n",
    "    print(f\"{my_str} starts with 'full' \")\n",
    "else:\n",
    "    print(\"no, it doesn't start\")\n",
    "if my_str.endswith(\"pro\"):\n",
    "    print(f\"{my_str} ends with 'pro' \")\n",
    "else:\n",
    "    print(\"no, it's doesn't end\")"
   ]
  },
  {
   "cell_type": "code",
   "execution_count": 4,
   "id": "8c6b06f7-3f73-4169-a08e-78ba5a607d58",
   "metadata": {},
   "outputs": [
    {
     "name": "stdout",
     "output_type": "stream",
     "text": [
      "full stack data science pro\n",
      "Full Stack Data Science Pro\n"
     ]
    }
   ],
   "source": [
    "# 19. Title case\n",
    "print(my_str)\n",
    "print(my_str.title())"
   ]
  },
  {
   "cell_type": "code",
   "execution_count": 7,
   "id": "380519b6-f7c5-4237-b759-e6796ab2b91d",
   "metadata": {},
   "outputs": [
    {
     "name": "stdout",
     "output_type": "stream",
     "text": [
      "['full', 'stack', 'data', 'science', 'pro']\n",
      "longest word in 'full stack data science pro' is 'science'\n",
      "shortest word in 'full stack data science pro' is 'pro'\n"
     ]
    }
   ],
   "source": [
    "# 20 & 21. Longest and smallest word in string\n",
    "l = my_str.split()\n",
    "print(l)\n",
    "l_len = 0\n",
    "s_len = len(my_str)\n",
    "l_word = \"\"\n",
    "s_word = \"\"\n",
    "for w in l:\n",
    "    w_len = len(w)\n",
    "    if w_len >= l_len:\n",
    "        l_len = w_len\n",
    "        l_word = w\n",
    "    if w_len <= s_len:\n",
    "        s_len = w_len\n",
    "        s_word = w\n",
    "\n",
    "print(f\"longest word in '{my_str}' is '{l_word}'\")\n",
    "print(f\"shortest word in '{my_str}' is '{s_word}'\")"
   ]
  },
  {
   "cell_type": "code",
   "execution_count": 9,
   "id": "ac82ff5d-c58b-44ec-9f41-29ce43bb2b7e",
   "metadata": {},
   "outputs": [
    {
     "name": "stdout",
     "output_type": "stream",
     "text": [
      "['lluf', 'kcats', 'atad', 'ecneics', 'orp']\n",
      " lluf kcats atad ecneics orp\n"
     ]
    }
   ],
   "source": [
    "# 22. Reverse words in string\n",
    "l = my_str.split()\n",
    "rev_l = []\n",
    "for w in l:\n",
    "    rev_w = w[::-1]\n",
    "    rev_l.append(rev_w)\n",
    "print(rev_l)\n",
    "new_str=\"\"\n",
    "for w in rev_l:\n",
    "    new_str = new_str + \" \" + w\n",
    "print(new_str)"
   ]
  },
  {
   "cell_type": "code",
   "execution_count": 11,
   "id": "e7f36edf-feb6-450a-9508-492fb36c1abd",
   "metadata": {},
   "outputs": [
    {
     "name": "stdout",
     "output_type": "stream",
     "text": [
      "is 'full stack data science pro' alphanumeric? False\n",
      "is 'fullstackdatasciencepro' alphanumeric? True\n"
     ]
    }
   ],
   "source": [
    "# 23. Aplhanumeric or not\n",
    "print(f\"is '{my_str}' alphanumeric? {my_str.isalpha()}\")\n",
    "new_str = my_str.replace(\" \", \"\")\n",
    "print(f\"is '{new_str}' alphanumeric? {new_str.isalpha()}\")"
   ]
  },
  {
   "cell_type": "code",
   "execution_count": 16,
   "id": "86990f88-6077-478a-89d6-749040c725e2",
   "metadata": {},
   "outputs": [
    {
     "name": "stdout",
     "output_type": "stream",
     "text": [
      "digits in full stack data science pro12345 is 12345\n",
      "alphabets in full stack data science pro12345 is fullstackdatasciencepro\n"
     ]
    }
   ],
   "source": [
    "# 24 & 25 - Extract digits and alphabets from string\n",
    "dc = \"\"\n",
    "ac = \"\"\n",
    "new_str = my_str + \"12345\"\n",
    "for c in new_str:\n",
    "    if c.isdigit():\n",
    "        dc += c\n",
    "    if c.isalpha():\n",
    "        ac += c\n",
    "print(f\"digits in {new_str} is {dc}\")\n",
    "print(f\"alphabets in {new_str} is {ac}\")"
   ]
  },
  {
   "cell_type": "code",
   "execution_count": 17,
   "id": "06258027-fa17-456f-a443-530c017f083e",
   "metadata": {},
   "outputs": [
    {
     "name": "stdout",
     "output_type": "stream",
     "text": [
      "no.of uppercase in Full Stack Data Science Pro is 5\n",
      "no.of lowercase in Full Stack Data Science Pro is 18\n"
     ]
    }
   ],
   "source": [
    "# 26 & 27 - Count no.of upper and lower case letters\n",
    "uc = 0\n",
    "lc = 0\n",
    "new_str = my_str.title()\n",
    "for c in new_str:\n",
    "    if c.isupper():\n",
    "        uc += 1\n",
    "    if c.islower():\n",
    "        lc += 1\n",
    "\n",
    "print(f\"no.of uppercase in {new_str} is {uc}\")\n",
    "print(f\"no.of lowercase in {new_str} is {lc}\")"
   ]
  },
  {
   "cell_type": "code",
   "execution_count": 20,
   "id": "483d3a25-f422-46ed-9503-aa39cbd79f0d",
   "metadata": {},
   "outputs": [
    {
     "name": "stdout",
     "output_type": "stream",
     "text": [
      "FULL STACK DATA SCIENCE PRO\n",
      "fULL sTACK dATA sCIENCE pRO\n"
     ]
    }
   ],
   "source": [
    "# 28 - swap case of each character\n",
    "print(my_str.swapcase())\n",
    "print(new_str.swapcase())"
   ]
  },
  {
   "cell_type": "code",
   "execution_count": 23,
   "id": "fdc95f13-f960-4d4c-b411-21d36a3fe023",
   "metadata": {},
   "outputs": [
    {
     "data": {
      "text/plain": [
       "'Full Stack Data Science '"
      ]
     },
     "execution_count": 23,
     "metadata": {},
     "output_type": "execute_result"
    }
   ],
   "source": [
    "# 29 - Remove specific word\n",
    "remove_str = new_str.replace(\"Pro\",\"\")\n",
    "remove_str"
   ]
  },
  {
   "cell_type": "code",
   "execution_count": 33,
   "id": "b123117e-8dcb-4324-bfa1-6a297f0627db",
   "metadata": {},
   "outputs": [
    {
     "name": "stdout",
     "output_type": "stream",
     "text": [
      "help@pwskills.com is valid\n",
      "help\n",
      "pwskills.com\n"
     ]
    }
   ],
   "source": [
    "# 30, 31 & 32 - check if email address\n",
    "email_address = \"help@pwskills.com\"\n",
    "idx = email_address.find('@')\n",
    "if idx != -1 and email_address.endswith(\".com\"):\n",
    "    print(f\"{email_address} is valid\")\n",
    "else:\n",
    "    print(f\"{email_address} is invalid\")\n",
    "\n",
    "# username\n",
    "username = email_address[:idx]\n",
    "# domain\n",
    "domain = email_address[idx+1:]\n",
    "print(username)\n",
    "print(domain)"
   ]
  },
  {
   "cell_type": "code",
   "execution_count": 35,
   "id": "0ba85e1b-d781-494b-ac8a-0c9f46e7ca09",
   "metadata": {},
   "outputs": [
    {
     "name": "stdout",
     "output_type": "stream",
     "text": [
      " full stack data science pro\n"
     ]
    }
   ],
   "source": [
    "# 33 - Replace multiple spaces with single space\n",
    "my_str = \"full     stack   data science pro\"\n",
    "l = my_str.split()\n",
    "new_str = \"\"\n",
    "for w in l:\n",
    "    new_str = new_str + \" \"+ w\n",
    "\n",
    "print(new_str)\n"
   ]
  },
  {
   "cell_type": "code",
   "execution_count": 37,
   "id": "f99a3765-0488-4b6a-a00d-721c2b42830a",
   "metadata": {},
   "outputs": [
    {
     "name": "stdout",
     "output_type": "stream",
     "text": [
      "https://lab.pwskills.com is valid\n",
      "https\n"
     ]
    }
   ],
   "source": [
    "# 34 & 35 - valid URL\n",
    "url = \"https://lab.pwskills.com\"\n",
    "pindex = url.find(\"http://\")\n",
    "psindex = url.find(\"https://\")\n",
    "if pindex != -1 or psindex != -1:\n",
    "    print(f\"{url} is valid\")\n",
    "else:\n",
    "    print(f\"{url}\" is invalid)\n",
    "\n",
    "slashindex = url.find(\"://\")\n",
    "protocol = url[:slashindex]\n",
    "print(protocol)"
   ]
  },
  {
   "cell_type": "code",
   "execution_count": 13,
   "id": "d1b21756-3aed-4d01-8705-eb20b2b0fc88",
   "metadata": {},
   "outputs": [
    {
     "name": "stdout",
     "output_type": "stream",
     "text": [
      "dict_items([('f', 1), ('u', 1), ('l', 2), ('s', 2), ('t', 2), ('a', 3), ('c', 3), ('k', 1), ('d', 1), ('i', 1), ('e', 2), ('n', 1), ('p', 1), ('r', 1), ('o', 1)])\n"
     ]
    }
   ],
   "source": [
    "# 36 - Frequency of each character\n",
    "my_str=\"full stack data science pro\"\n",
    "new_str = my_str.replace(\" \", \"\")\n",
    "freq_dict = {}\n",
    "for c in new_str:\n",
    "    if freq_dict.get(c) == None:\n",
    "        freq_dict[c] = new_str.count(c)\n",
    "\n",
    "print(freq_dict.items())\n"
   ]
  },
  {
   "cell_type": "code",
   "execution_count": 20,
   "id": "d4d8d537-964f-4cda-b985-2e58f147acbb",
   "metadata": {},
   "outputs": [
    {
     "name": "stdout",
     "output_type": "stream",
     "text": [
      "[',', ' ', ' ', ' ', \"'\", ' ', '_', '+', '-', '-']\n",
      "hiwelcometoclass23fullstackdatasciencepro\n"
     ]
    }
   ],
   "source": [
    "# 37 - remove punctuation \n",
    "punc_str = \"hi, welcome to class'23 full_stack+data-science-pro\"\n",
    "new_str=\"\"\n",
    "punctuation=[]\n",
    "for c in punc_str:\n",
    "    if c.isalnum() == False:\n",
    "        punctuation.append(c)\n",
    "\n",
    "for c in punc_str:\n",
    "    if c in punctuation:\n",
    "        punc_str = punc_str.replace(c,\"\")\n",
    "        \n",
    "print(punctuation)\n",
    "\n",
    "print(punc_str)"
   ]
  },
  {
   "cell_type": "code",
   "execution_count": 22,
   "id": "74e03d51-38b6-48b3-aca7-9a1931b1e576",
   "metadata": {},
   "outputs": [
    {
     "name": "stdout",
     "output_type": "stream",
     "text": [
      "String has non-digits\n",
      "String has non-alphabets\n"
     ]
    }
   ],
   "source": [
    "# 38 & 39 - check if string only has digits and alphabets\n",
    "punc_str\n",
    "# has only digits\n",
    "for c in punc_str:\n",
    "    if c.isdigit() == False:\n",
    "        print(\"String has non-digits\")\n",
    "        break\n",
    "\n",
    "# has only alphabets\n",
    "for c in punc_str:\n",
    "    if c.isalpha() == False:\n",
    "        print(\"String has non-alphabets\")\n",
    "        break"
   ]
  },
  {
   "cell_type": "code",
   "execution_count": 24,
   "id": "a2b01c14-06a5-44d1-857f-9b28f0c12c61",
   "metadata": {},
   "outputs": [
    {
     "name": "stdout",
     "output_type": "stream",
     "text": [
      "['f', 'u', 'l', 'l', 's', 't', 'a', 'c', 'k', 'd', 'a', 't', 'a', 's', 'c', 'i', 'e', 'n', 'c', 'e', 'p', 'r', 'o']\n"
     ]
    }
   ],
   "source": [
    "# 40 - convert string to list of chars\n",
    "my_str\n",
    "new_str = my_str.replace(\" \",\"\")\n",
    "lc = []\n",
    "for c in new_str:\n",
    "    lc.append(c)\n",
    "    \n",
    "print(lc)"
   ]
  },
  {
   "cell_type": "code",
   "execution_count": 32,
   "id": "3f124017-443d-4764-81e1-62f6602d204c",
   "metadata": {},
   "outputs": [
    {
     "name": "stdout",
     "output_type": "stream",
     "text": [
      "They are anagrams\n"
     ]
    }
   ],
   "source": [
    "# 41 - if two strings are anagram\n",
    "str1 = \"list-en\"\n",
    "str2 = \"sil_ent\"\n",
    "str1_dict = {}\n",
    "str2_dict = {}\n",
    "anagram = True\n",
    "for c in str1:\n",
    "    if c.isalpha() and str1_dict.get(c) == None:\n",
    "        str1_dict[c] = str1.count(c)\n",
    "\n",
    "for c in str2:\n",
    "    if c.isalpha() and str2_dict.get(c) == None:\n",
    "        str2_dict[c] = str2.count(c)\n",
    "\n",
    "\n",
    "for key in str1_dict:\n",
    "    if str1_dict.get(key) != str2_dict.get(key):\n",
    "        anagram = False\n",
    "        break\n",
    "\n",
    "if anagram:\n",
    "    print(\"They are anagrams\")\n",
    "else:\n",
    "    print(\"Not anagram\")"
   ]
  },
  {
   "cell_type": "code",
   "execution_count": 49,
   "id": "8d4a0aef-2975-4097-9e41-0c9d4d122d3c",
   "metadata": {},
   "outputs": [
    {
     "name": "stdin",
     "output_type": "stream",
     "text": [
      "Enter string to encode:  full stackZ\n"
     ]
    },
    {
     "name": "stdout",
     "output_type": "stream",
     "text": [
      "ixoo vwdfnC\n",
      "full stackZ\n"
     ]
    }
   ],
   "source": [
    "# 42 & 43 - Encode a string using Caesar cipher\n",
    "input_str=input(\"Enter string to encode: \")\n",
    "encode_shift = 3\n",
    "encoded_str=\"\"\n",
    "low = ord('a')\n",
    "up = ord('A')\n",
    "\n",
    "# encode\n",
    "for c in input_str:\n",
    "    if c.isalpha():\n",
    "        asc=ord(c)+encode_shift\n",
    "        if c.islower():\n",
    "            asc = low + ((asc-low)%26)\n",
    "        else:\n",
    "            asc = up + ((asc-up)%26)\n",
    "        encoded_str = encoded_str+chr(asc)\n",
    "    else:\n",
    "        encoded_str = encoded_str+c\n",
    "print(encoded_str)\n",
    "\n",
    "# decode\n",
    "decoded_str = \"\"\n",
    "for e in encoded_str:\n",
    "    if e.isalpha():\n",
    "        asc=ord(e)-encode_shift\n",
    "        if e.islower():\n",
    "            asc = low + ((asc-low)%26)\n",
    "        else:\n",
    "            asc = up + ((asc-up)%26)\n",
    "        decoded_str = decoded_str+chr(asc)\n",
    "    else:\n",
    "        decoded_str = decoded_str+e\n",
    "print(decoded_str)        "
   ]
  },
  {
   "cell_type": "code",
   "execution_count": 54,
   "id": "c600ff1b-e23b-4ae3-9c4a-b3f5c448c495",
   "metadata": {},
   "outputs": [
    {
     "name": "stdout",
     "output_type": "stream",
     "text": [
      "Most frequent word in 'when fire fires the fire, fire will be fired' is 'fire'\n",
      "unique words in 'when fire fires the fire, fire will be fired' are ' fires the fire, will be fired'\n"
     ]
    }
   ],
   "source": [
    "# 44 & 45 - most frequent word and unique word\n",
    "my_str = \"when fire fires the fire, fire will be fired\"\n",
    "freq_dict = {}\n",
    "lw = my_str.split()\n",
    "for w in lw:\n",
    "    if freq_dict.get(w) == None:\n",
    "        freq_dict[w] = my_str.count(w)\n",
    "\n",
    "high_count = 0\n",
    "high_key = \"\"\n",
    "unique_words=\"\"\n",
    "for key in freq_dict.keys():\n",
    "    if freq_dict.get(key) >= high_count:\n",
    "        high_count = freq_dict.get(key)\n",
    "        high_key = key\n",
    "    elif freq_dict.get(key) == 1:\n",
    "        unique_words = unique_words + \" \" + key\n",
    "\n",
    "print(f\"Most frequent word in '{my_str}' is '{high_key}'\")\n",
    "print(f\"unique words in '{my_str}' are '{unique_words}'\")"
   ]
  },
  {
   "cell_type": "code",
   "execution_count": 55,
   "id": "70e8f34b-d36d-4a7e-a5c0-2db4d99148cd",
   "metadata": {},
   "outputs": [
    {
     "ename": "SyntaxError",
     "evalue": "invalid syntax (129362489.py, line 2)",
     "output_type": "error",
     "traceback": [
      "\u001b[0;36m  Cell \u001b[0;32mIn[55], line 2\u001b[0;36m\u001b[0m\n\u001b[0;31m    pip install syllables\u001b[0m\n\u001b[0m        ^\u001b[0m\n\u001b[0;31mSyntaxError\u001b[0m\u001b[0;31m:\u001b[0m invalid syntax\n"
     ]
    }
   ],
   "source": [
    "# 46 - count syllables\n"
   ]
  },
  {
   "cell_type": "code",
   "execution_count": 60,
   "id": "c4243223-041f-4aa7-a894-d09b0e41644a",
   "metadata": {},
   "outputs": [
    {
     "name": "stdout",
     "output_type": "stream",
     "text": [
      "when fire fires the fire, fire will be fired\n",
      "yes - ,\n"
     ]
    }
   ],
   "source": [
    "# 47 - special chars\n",
    "import string\n",
    "print(my_str)\n",
    "for c in my_str:\n",
    "    if c in string.punctuation:\n",
    "        print(f\"yes - {c}\")\n",
    "        break"
   ]
  },
  {
   "cell_type": "code",
   "execution_count": 62,
   "id": "d8b8811f-ce5d-4df3-bed2-53a1b63b5115",
   "metadata": {},
   "outputs": [
    {
     "name": "stdin",
     "output_type": "stream",
     "text": [
      "Enter nth place in string:  2\n"
     ]
    },
    {
     "name": "stdout",
     "output_type": "stream",
     "text": [
      "when fire fires the fire, fire will be fired\n",
      "when  fires the fire, fire will be fired\n"
     ]
    }
   ],
   "source": [
    "# 48 - remove nth word from string\n",
    "nth = int(input(\"Enter nth place in string: \"))\n",
    "print(my_str)\n",
    "lw = my_str.split()\n",
    "new_str=\"\"\n",
    "if nth < len(lw):\n",
    "    w_index = my_str.find(lw[nth-1])\n",
    "    next_index = w_index+len(lw[nth-1])\n",
    "    new_str = my_str[:w_index] + my_str[next_index:]\n",
    "\n",
    "print(new_str)"
   ]
  },
  {
   "cell_type": "code",
   "execution_count": 64,
   "id": "9bc3401b-f2dd-4176-b5d2-89de33983184",
   "metadata": {},
   "outputs": [
    {
     "name": "stdin",
     "output_type": "stream",
     "text": [
      "Enter nth place in string:  3\n",
      "Enter word to insert:  hell\n"
     ]
    },
    {
     "name": "stdout",
     "output_type": "stream",
     "text": [
      "when fire fires the fire, fire will be fired\n",
      "when fire hell fires the fire, fire will be fired\n"
     ]
    }
   ],
   "source": [
    "# 49 - insert a word at nth\n",
    "nth = int(input(\"Enter nth place in string: \"))\n",
    "new_word = input(\"Enter word to insert: \")\n",
    "print(my_str)\n",
    "lw = my_str.split()\n",
    "lw.insert(nth-1, new_word)\n",
    "new_str=\"\"\n",
    "for w in lw:\n",
    "    new_str = new_str + \" \" + w\n",
    "print(new_str.lstrip())"
   ]
  },
  {
   "cell_type": "code",
   "execution_count": 73,
   "id": "fb5cdfcb-b2fd-4eab-97a6-1d332e8e33dd",
   "metadata": {},
   "outputs": [
    {
     "name": "stdout",
     "output_type": "stream",
     "text": [
      "[['col1', 'col2', 'col3', 'col4', 'col5', 'col6'], ['1', '2', '3', '4', '5', '6'], ['a', 'b', 'c', 'd', 'e', 'f']]\n"
     ]
    }
   ],
   "source": [
    "# 50 - convert csv string to list of lists\n",
    "csv = \"\"\"col1,col2,col3,col4,col5,col6\n",
    "1,2,3,4,5,6\n",
    "a,b,c,d,e,f\"\"\"\n",
    "ll = csv.split(\"\\n\")\n",
    "list_of_list = []\n",
    "for l in ll:\n",
    "    ls = l.split(\",\")\n",
    "    inner_list=[]\n",
    "    for w in ls:\n",
    "        inner_list.append(w)\n",
    "    list_of_list.append(inner_list)\n",
    "print(list_of_list)"
   ]
  },
  {
   "cell_type": "code",
   "execution_count": null,
   "id": "10759979-d188-472d-8eed-64deb1f78795",
   "metadata": {},
   "outputs": [],
   "source": []
  }
 ],
 "metadata": {
  "kernelspec": {
   "display_name": "Python 3 (ipykernel)",
   "language": "python",
   "name": "python3"
  },
  "language_info": {
   "codemirror_mode": {
    "name": "ipython",
    "version": 3
   },
   "file_extension": ".py",
   "mimetype": "text/x-python",
   "name": "python",
   "nbconvert_exporter": "python",
   "pygments_lexer": "ipython3",
   "version": "3.10.8"
  }
 },
 "nbformat": 4,
 "nbformat_minor": 5
}
