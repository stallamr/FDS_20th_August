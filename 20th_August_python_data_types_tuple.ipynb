{
 "cells": [
  {
   "cell_type": "code",
   "execution_count": 1,
   "id": "5b32a0aa-b992-492c-8bc1-d94027833581",
   "metadata": {},
   "outputs": [
    {
     "data": {
      "text/plain": [
       "(1, 2, 3, 4, 5)"
      ]
     },
     "execution_count": 1,
     "metadata": {},
     "output_type": "execute_result"
    }
   ],
   "source": [
    "# 1. Create a tuple with integers from 1 to 5.\n",
    "tuple(range(1,6))"
   ]
  },
  {
   "cell_type": "code",
   "execution_count": 2,
   "id": "4cfca72d-be6c-4c38-b856-0b0cb4db07b1",
   "metadata": {},
   "outputs": [
    {
     "name": "stdout",
     "output_type": "stream",
     "text": [
      "3\n"
     ]
    }
   ],
   "source": [
    "# 2. Access the third element of a tuple.\n",
    "t1 = tuple(range(1,11))\n",
    "print(t1[2])"
   ]
  },
  {
   "cell_type": "code",
   "execution_count": 9,
   "id": "c47af89f-b6e8-4f51-8355-e92f8ed104b2",
   "metadata": {},
   "outputs": [
    {
     "name": "stdout",
     "output_type": "stream",
     "text": [
      "10\n",
      "10\n"
     ]
    }
   ],
   "source": [
    "# 3. Find the length of a tuple without using the `len()` function.\n",
    "cnt=0\n",
    "for n in t1:\n",
    "    cnt += 1\n",
    "print(cnt)\n",
    "cnt = 0\n",
    "[cnt:=cnt+1 for n in t1]\n",
    "print(cnt)"
   ]
  },
  {
   "cell_type": "code",
   "execution_count": 10,
   "id": "95e2a897-c10f-44e0-825b-26a97d431595",
   "metadata": {},
   "outputs": [
    {
     "name": "stdout",
     "output_type": "stream",
     "text": [
      "1\n"
     ]
    }
   ],
   "source": [
    "# 4. Count the occurrences of an element in a tuple.\n",
    "ele=3\n",
    "print(t1.count(ele))"
   ]
  },
  {
   "cell_type": "code",
   "execution_count": 11,
   "id": "91ae3d38-cbd9-4640-ac15-0d7fd314a0ee",
   "metadata": {},
   "outputs": [
    {
     "name": "stdout",
     "output_type": "stream",
     "text": [
      "2\n"
     ]
    }
   ],
   "source": [
    "# 5. Find the index of the first occurrence of an element in a tuple.\n",
    "ele = 3\n",
    "print(t1.index(ele))"
   ]
  },
  {
   "cell_type": "code",
   "execution_count": 12,
   "id": "bd563e59-714f-4152-bbfc-7d4339114c93",
   "metadata": {},
   "outputs": [
    {
     "name": "stdout",
     "output_type": "stream",
     "text": [
      "3 in tuple (1, 2, 3, 4, 5, 6, 7, 8, 9, 10)\n"
     ]
    }
   ],
   "source": [
    "# 6. Check if an element exists in a tuple.\n",
    "ele = 3\n",
    "if ele in t1:\n",
    "    print(f\"{ele} is in tuple {t1}\")\n",
    "else:\n",
    "    print(f\"{ele} donot exist\")"
   ]
  },
  {
   "cell_type": "code",
   "execution_count": 13,
   "id": "f9742a86-7e86-4577-954b-b2e629976e37",
   "metadata": {},
   "outputs": [
    {
     "name": "stdout",
     "output_type": "stream",
     "text": [
      "[1, 2, 3, 4, 5, 6, 7, 8, 9, 10]\n",
      "(1, 2, 3, 4, 5, 6, 7, 8, 9, 10)\n"
     ]
    }
   ],
   "source": [
    "# 7. Convert a tuple to a list.\n",
    "l1 = list(t1)\n",
    "print(l1)\n",
    "# 8. Convert a list to a tuple.\n",
    "t2 = tuple(l1)\n",
    "print(t2)"
   ]
  },
  {
   "cell_type": "code",
   "execution_count": 14,
   "id": "b71eced6-b41c-4a7c-8541-0236fc72335f",
   "metadata": {},
   "outputs": [
    {
     "name": "stdout",
     "output_type": "stream",
     "text": [
      "11, 12, and 13\n"
     ]
    }
   ],
   "source": [
    "# 9. Unpack the elements of a tuple into variables.\n",
    "x,y,z = (11,12,13)\n",
    "print(f\"{x}, {y}, and {z}\")"
   ]
  },
  {
   "cell_type": "code",
   "execution_count": 15,
   "id": "e0b443d9-8ba4-429f-be15-05191b330743",
   "metadata": {},
   "outputs": [
    {
     "name": "stdout",
     "output_type": "stream",
     "text": [
      "(2, 4, 6, 8)\n"
     ]
    }
   ],
   "source": [
    "# 10. Create a tuple of even numbers from 1 to 10.\n",
    "l2 = [n for n in range(1,10) if n % 2 == 0]\n",
    "t2 = tuple(l2)\n",
    "print(t2)\n"
   ]
  },
  {
   "cell_type": "code",
   "execution_count": 16,
   "id": "5a71343f-294d-4714-93fb-8de2bbd18db5",
   "metadata": {},
   "outputs": [
    {
     "name": "stdout",
     "output_type": "stream",
     "text": [
      "(1, 3, 5, 7, 9)\n"
     ]
    }
   ],
   "source": [
    "# 11. Create a tuple of odd numbers from 1 to 10.\n",
    "l3 = [n for n in range(1,10) if n % 2 != 0]\n",
    "t3 = tuple(l3)\n",
    "print(t3)"
   ]
  },
  {
   "cell_type": "code",
   "execution_count": 17,
   "id": "15a6ab0f-55ce-4a45-9176-7e256aae8f43",
   "metadata": {},
   "outputs": [
    {
     "name": "stdout",
     "output_type": "stream",
     "text": [
      "(2, 4, 6, 8, 1, 3, 5, 7, 9)\n"
     ]
    }
   ],
   "source": [
    "# 12. Concatenate two tuples.\n",
    "t4 = t2 + t3\n",
    "print(t4)"
   ]
  },
  {
   "cell_type": "code",
   "execution_count": 18,
   "id": "b083aa1c-dbf4-4e34-84ae-276bbe0082ec",
   "metadata": {},
   "outputs": [
    {
     "name": "stdout",
     "output_type": "stream",
     "text": [
      "(2, 4, 6, 8, 2, 4, 6, 8, 2, 4, 6, 8)\n"
     ]
    }
   ],
   "source": [
    "# 13. Repeat a tuple three times.\n",
    "t5 = 3*t2\n",
    "print(t5)"
   ]
  },
  {
   "cell_type": "code",
   "execution_count": 20,
   "id": "dae088f6-4e5e-46a1-8a19-b772ce2a6707",
   "metadata": {},
   "outputs": [
    {
     "name": "stdout",
     "output_type": "stream",
     "text": [
      "tuple is empty\n"
     ]
    }
   ],
   "source": [
    "# 14. Check if a tuple is empty.\n",
    "temp = ()\n",
    "if temp == ():\n",
    "    print(\"tuple is empty\")\n",
    "else:\n",
    "    print(\"tuple is not empty\")\n"
   ]
  },
  {
   "cell_type": "code",
   "execution_count": 23,
   "id": "9fa76d22-77a9-447c-96be-dbff4de749ba",
   "metadata": {},
   "outputs": [
    {
     "name": "stdout",
     "output_type": "stream",
     "text": [
      "((2, 4, 6, 8), (1, 3, 5, 7, 9))\n"
     ]
    }
   ],
   "source": [
    "# 15. Create a nested tuple.\n",
    "t6 = ((t2,) + (t3,))\n",
    "print(t6)"
   ]
  },
  {
   "cell_type": "code",
   "execution_count": 24,
   "id": "62ede950-13c5-4b54-86c8-559fcbb3e1d5",
   "metadata": {},
   "outputs": [
    {
     "name": "stdout",
     "output_type": "stream",
     "text": [
      "(2, 4, 6, 8)\n"
     ]
    }
   ],
   "source": [
    "# 16. Access the first element of a nested tuple.\n",
    "print(t6[0])"
   ]
  },
  {
   "cell_type": "code",
   "execution_count": 25,
   "id": "e43ad5ef-fcbe-4b51-aab3-ff6566e9bec4",
   "metadata": {},
   "outputs": [
    {
     "name": "stdout",
     "output_type": "stream",
     "text": [
      "(1,)\n"
     ]
    }
   ],
   "source": [
    "# 17. Create a tuple with a single element.\n",
    "t7 = (1,)\n",
    "print(t7)"
   ]
  },
  {
   "cell_type": "code",
   "execution_count": 27,
   "id": "c7d019e8-f3ba-4b81-b851-76acda53ba50",
   "metadata": {},
   "outputs": [
    {
     "name": "stdout",
     "output_type": "stream",
     "text": [
      "tuples are equal\n"
     ]
    }
   ],
   "source": [
    "# 18. Compare two tuples.\n",
    "t8 = (1,)\n",
    "if t7 == t8:\n",
    "    print(\"tuples are equal\")\n",
    "else:\n",
    "    print(\"tuples not equal\")"
   ]
  },
  {
   "cell_type": "code",
   "execution_count": 29,
   "id": "d7404488-3013-40da-ba96-a3cb1bf5493e",
   "metadata": {},
   "outputs": [
    {
     "ename": "NameError",
     "evalue": "name 't7' is not defined",
     "output_type": "error",
     "traceback": [
      "\u001b[0;31m---------------------------------------------------------------------------\u001b[0m",
      "\u001b[0;31mNameError\u001b[0m                                 Traceback (most recent call last)",
      "Cell \u001b[0;32mIn[29], line 3\u001b[0m\n\u001b[1;32m      1\u001b[0m \u001b[38;5;66;03m# 19. Delete a tuple\u001b[39;00m\n\u001b[1;32m      2\u001b[0m \u001b[38;5;28;01mdel\u001b[39;00m(t7)\n\u001b[0;32m----> 3\u001b[0m \u001b[38;5;28mprint\u001b[39m(\u001b[43mt7\u001b[49m)\n",
      "\u001b[0;31mNameError\u001b[0m: name 't7' is not defined"
     ]
    }
   ],
   "source": [
    "# 19. Delete a tuple\n",
    "del(t7)\n",
    "print(t7)"
   ]
  },
  {
   "cell_type": "code",
   "execution_count": 30,
   "id": "bc605981-4655-4822-87a1-5f32f720ba16",
   "metadata": {},
   "outputs": [
    {
     "name": "stdout",
     "output_type": "stream",
     "text": [
      "(2, 4)\n"
     ]
    }
   ],
   "source": [
    "# 20. Slice a tuple.\n",
    "h1 = t2[:2]\n",
    "print(h1)"
   ]
  },
  {
   "cell_type": "code",
   "execution_count": 34,
   "id": "967bf55e-c530-4199-80ec-9a303b5e02a6",
   "metadata": {},
   "outputs": [
    {
     "name": "stdout",
     "output_type": "stream",
     "text": [
      "8\n"
     ]
    }
   ],
   "source": [
    "# 21. Find the maximum value in a tuple.\n",
    "max = 0\n",
    "[max := n for n in t2 if n >= max]\n",
    "print(max)"
   ]
  },
  {
   "cell_type": "code",
   "execution_count": 35,
   "id": "957cec6f-2ae0-4570-bf5a-42450e3dab10",
   "metadata": {},
   "outputs": [
    {
     "name": "stdout",
     "output_type": "stream",
     "text": [
      "2\n"
     ]
    }
   ],
   "source": [
    "# 22. Find the minimum value in a tuple.\n",
    "import sys\n",
    "min = sys.maxsize\n",
    "[min := n for n in t2 if n <= min]\n",
    "print(min)"
   ]
  },
  {
   "cell_type": "code",
   "execution_count": 37,
   "id": "5ceb0f90-dc7a-40f6-af3e-12c8a6ca9b0d",
   "metadata": {},
   "outputs": [
    {
     "name": "stdout",
     "output_type": "stream",
     "text": [
      "['d', 'a', 't', 'a', 's', 'c', 'i', 'e', 'n', 'c', 'e']\n",
      "('d', 'a', 't', 'a', 's', 'c', 'i', 'e', 'n', 'c', 'e')\n"
     ]
    }
   ],
   "source": [
    "# 23. Convert a string to a tuple of characters.\n",
    "s = \"datascience\"\n",
    "l = list(s)\n",
    "print(l)\n",
    "t8 = tuple(l)\n",
    "print(t8)"
   ]
  },
  {
   "cell_type": "code",
   "execution_count": 42,
   "id": "3b2ccdb4-8040-467b-b633-cd52fbe60a87",
   "metadata": {},
   "outputs": [
    {
     "name": "stdout",
     "output_type": "stream",
     "text": [
      "['d', 'a', 't', 'a', 's', 'c', 'i', 'e', 'n', 'c', 'e']\n",
      "datascience\n"
     ]
    }
   ],
   "source": [
    "# 24. Convert a tuple of characters to a string.\n",
    "l2 = list(t8)\n",
    "print(l2)\n",
    "s1 = \"\"\n",
    "s1 = s1.join(l2)\n",
    "print(s1)"
   ]
  },
  {
   "cell_type": "code",
   "execution_count": 43,
   "id": "8545b56b-8b2a-4004-820f-754c67a0ff49",
   "metadata": {},
   "outputs": [
    {
     "name": "stdout",
     "output_type": "stream",
     "text": [
      "(1, 2, 'datascience', [3, 4, 5])\n"
     ]
    }
   ],
   "source": [
    "# 25. Create a tuple from multiple data types.\n",
    "l3=[1,2,\"datascience\", [3,4,5]]\n",
    "t9 = tuple(l3)\n",
    "print(t9)"
   ]
  },
  {
   "cell_type": "code",
   "execution_count": 45,
   "id": "a57fda27-0e60-45ed-8803-b753cb0191dd",
   "metadata": {},
   "outputs": [
    {
     "name": "stdout",
     "output_type": "stream",
     "text": [
      "identical\n"
     ]
    }
   ],
   "source": [
    "# 26. Check if two tuples are identical.\n",
    "t9 = (1,2)\n",
    "t10 = (1,2)\n",
    "if t9 == t10:\n",
    "    print(\"identical\")\n",
    "else:\n",
    "    print(\"non-identical\")"
   ]
  },
  {
   "cell_type": "code",
   "execution_count": 46,
   "id": "c29eeefc-32c1-4a61-b074-3a8f8ca9a8ba",
   "metadata": {},
   "outputs": [
    {
     "name": "stdout",
     "output_type": "stream",
     "text": [
      "(1, 2, 3, 4, 5, 6, 7, 8)\n"
     ]
    }
   ],
   "source": [
    "# 27. Sort the elements of a tuple.\n",
    "t1 = (1,3,2,4,5,8,6,7)\n",
    "l1 = list(t1)\n",
    "l1.sort()\n",
    "t2 = tuple(l1)\n",
    "print(t2)"
   ]
  },
  {
   "cell_type": "code",
   "execution_count": 49,
   "id": "2df3fb33-00c6-47bd-95ec-6e75f7a468f2",
   "metadata": {},
   "outputs": [
    {
     "name": "stdout",
     "output_type": "stream",
     "text": [
      "['1', '2', '3', '4', '5', '6', '7', '8']\n",
      "('1', '2', '3', '4', '5', '6', '7', '8')\n"
     ]
    }
   ],
   "source": [
    "# 28. Convert a tuple of integers to a tuple of strings.\n",
    "l2 = [str(n) for n in l1]\n",
    "print(l2)\n",
    "t3 = tuple(l2)\n",
    "print(t3)"
   ]
  },
  {
   "cell_type": "code",
   "execution_count": 51,
   "id": "6cad11c1-034c-4d1e-9493-25538bd0dd82",
   "metadata": {},
   "outputs": [
    {
     "name": "stdout",
     "output_type": "stream",
     "text": [
      "['1', '2', '3', '4', '5', '6', '7', '8']\n",
      "[1, 2, 3, 4, 5, 6, 7, 8]\n"
     ]
    }
   ],
   "source": [
    "# 29. Convert a tuple of strings to a tuple of integers.\n",
    "l4 = list(t3)\n",
    "print(l4)\n",
    "l5 = [int(n) for n in l4]\n",
    "print(l5)"
   ]
  },
  {
   "cell_type": "code",
   "execution_count": 52,
   "id": "d47f656c-b6f9-41cd-b452-10b0aa224423",
   "metadata": {},
   "outputs": [
    {
     "name": "stdout",
     "output_type": "stream",
     "text": [
      "(1, 2, 3, 4, 5, 6, 7, 8, '1', '2', '3', '4', '5', '6', '7', '8')\n"
     ]
    }
   ],
   "source": [
    "# 30. Merge two tuples.\n",
    "t4 = t2 + t3\n",
    "print(t4)"
   ]
  },
  {
   "cell_type": "code",
   "execution_count": 58,
   "id": "4f5e2cb6-3bd4-4bcd-9a17-8dd59fccc8f0",
   "metadata": {},
   "outputs": [
    {
     "name": "stdout",
     "output_type": "stream",
     "text": [
      "((1, 2), (3, 4))\n",
      "(1, 2, 3, 4)\n"
     ]
    }
   ],
   "source": [
    "# 31. Flatten a nested tuple.\n",
    "t1 = (1,2),\n",
    "t2 = (3,4),\n",
    "t3 = t1 + t2\n",
    "print(t3)\n",
    "l4 = []\n",
    "for t in t3:\n",
    "    if type(t) == type(t3):\n",
    "        for n in t:\n",
    "            l4.append(n)\n",
    "t4 = tuple(l4)\n",
    "print(t4)"
   ]
  },
  {
   "cell_type": "code",
   "execution_count": 3,
   "id": "409915f1-f481-4555-ae71-f2a7c912113c",
   "metadata": {},
   "outputs": [
    {
     "name": "stdout",
     "output_type": "stream",
     "text": [
      "[1, 2, 3, 5, 7, 11, 13, 17, 19, 23, 29, 31, 37, 41, 43, 47]\n",
      "(1, 2, 3, 5, 7)\n"
     ]
    }
   ],
   "source": [
    "# 32. Create a tuple of the first 5 prime numbers.\n",
    "l = [1]\n",
    "for n in range(2,50):\n",
    "    isprime=True\n",
    "    for i in range(2,n):\n",
    "        if n % i == 0:\n",
    "            isprime=False\n",
    "            break\n",
    "    if isprime:\n",
    "        l.append(n)\n",
    "pt = tuple(l[:5])\n",
    "print(l)\n",
    "print(pt)"
   ]
  },
  {
   "cell_type": "code",
   "execution_count": 10,
   "id": "2ecaab61-9991-4f5e-b9e7-da7f43c9415f",
   "metadata": {},
   "outputs": [
    {
     "name": "stdout",
     "output_type": "stream",
     "text": [
      "palindrome\n"
     ]
    }
   ],
   "source": [
    "# 33. Check if a tuple is a palindrome.\n",
    "t1 = ('n', 'o', 'o', 'n')\n",
    "t2 = ('n', 'o', 'o', 'n')\n",
    "l2 = list(t2)\n",
    "l2_rev=l2[::-1]\n",
    "t2_rev = tuple(l2_rev)\n",
    "if t1 == t2_rev:\n",
    "    print(\"palindrome\")\n",
    "else:\n",
    "    print(\"not a palindrome\")"
   ]
  },
  {
   "cell_type": "code",
   "execution_count": 13,
   "id": "9e245c74-e0ca-4715-b53c-3357d186a3be",
   "metadata": {},
   "outputs": [
    {
     "name": "stdout",
     "output_type": "stream",
     "text": [
      "[1, 4, 9, 16, 25]\n",
      "(1, 4, 9, 16, 25)\n"
     ]
    }
   ],
   "source": [
    "# 34. Create a tuple of squares of numbers from 1 to 5.\n",
    "l = [n**2 for n in range(1,6)]\n",
    "print(l)\n",
    "t_sq=tuple(l)\n",
    "print(t_sq)"
   ]
  },
  {
   "cell_type": "code",
   "execution_count": 15,
   "id": "97a71213-7d43-450e-ac86-57ba014aa18e",
   "metadata": {},
   "outputs": [
    {
     "name": "stdout",
     "output_type": "stream",
     "text": [
      "(2, 4, 6, 8, 10, 12, 14, 16, 18, 20)\n"
     ]
    }
   ],
   "source": [
    "# 35. Filter out all even numbers from a tuple.\n",
    "t1 = tuple([n for n in range(1,21) if n%2 == 0] )\n",
    "print(t1)"
   ]
  },
  {
   "cell_type": "code",
   "execution_count": 16,
   "id": "158baea9-80ba-49a5-a387-558a128d60d7",
   "metadata": {},
   "outputs": [
    {
     "name": "stdout",
     "output_type": "stream",
     "text": [
      "(1, 2, 3, 4, 5, 6, 7, 8, 9, 10)\n",
      "(2, 4, 6, 8, 10, 12, 14, 16, 18, 20)\n"
     ]
    }
   ],
   "source": [
    "# 36. Multiply all elements in a tuple by 2.\n",
    "t2 = tuple([n for n in range(1,11)])\n",
    "print(t2)\n",
    "l2 = list(t2)\n",
    "t3 = tuple([n*2 for n in l2])\n",
    "print(t3)"
   ]
  },
  {
   "cell_type": "code",
   "execution_count": 19,
   "id": "eeedb379-6d74-4594-b19d-3670abf1b278",
   "metadata": {},
   "outputs": [
    {
     "name": "stdout",
     "output_type": "stream",
     "text": [
      "[81, 77, 58, 47, 25, 72, 79, 32, 52, 18]\n",
      "(81, 77, 58, 47, 25, 72, 79, 32, 52, 18)\n"
     ]
    }
   ],
   "source": [
    "# 37. Create a tuple of random numbers.\n",
    "import random\n",
    "l2 = random.sample(range(1,100), 10)\n",
    "print(l2)\n",
    "t2 = tuple(l2)\n",
    "print(t2)"
   ]
  },
  {
   "cell_type": "code",
   "execution_count": 22,
   "id": "f24983e9-b465-4f18-83ff-c191c0cc9c57",
   "metadata": {},
   "outputs": [
    {
     "name": "stdout",
     "output_type": "stream",
     "text": [
      "(79, 42, 69, 5, 51, 57, 63, 70, 39, 13)\n",
      "[5, 13, 39, 42, 51, 57, 63, 69, 70, 79]\n",
      "tuple is not sorted\n"
     ]
    }
   ],
   "source": [
    "# 38. Check if a tuple is sorted.\n",
    "import random\n",
    "t1 = tuple(random.sample(range(1,100), 10))\n",
    "print(t1)\n",
    "l1 = list(t1)\n",
    "l2 = sorted(l1)\n",
    "print(l2)\n",
    "t2 = tuple(l2)\n",
    "if t1 == t2:\n",
    "    print(\"tuple is already sorted\")\n",
    "else:\n",
    "    print(\"tuple is not sorted\")"
   ]
  },
  {
   "cell_type": "code",
   "execution_count": 25,
   "id": "041a12db-4ca6-4fd6-85b5-28358a07349f",
   "metadata": {},
   "outputs": [
    {
     "name": "stdout",
     "output_type": "stream",
     "text": [
      "(1, 2, 3, 4, 5, 6, 7, 8, 9)\n"
     ]
    },
    {
     "name": "stdin",
     "output_type": "stream",
     "text": [
      "Enter 'n' for position shift:  4\n"
     ]
    },
    {
     "name": "stdout",
     "output_type": "stream",
     "text": [
      "[5, 6, 7, 8, 9, 1, 2, 3, 4]\n",
      "(5, 6, 7, 8, 9, 1, 2, 3, 4)\n"
     ]
    }
   ],
   "source": [
    "# 39. Rotate a tuple to the left by `n` positions.\n",
    "t1 = tuple(range(1,10))\n",
    "print(t1)\n",
    "n=int(input(\"Enter 'n' for position shift: \"))\n",
    "l1=list(t1)\n",
    "l1_left=l1[:n]\n",
    "l1_right=l1[n:]\n",
    "l2=l1_right+l1_left\n",
    "print(l2)\n",
    "t2=tuple(l2)\n",
    "print(t2)"
   ]
  },
  {
   "cell_type": "code",
   "execution_count": 27,
   "id": "024c71f8-be2c-449b-8151-25e1f77f2bf2",
   "metadata": {},
   "outputs": [
    {
     "name": "stdout",
     "output_type": "stream",
     "text": [
      "(1, 2, 3, 4, 5, 6, 7, 8, 9)\n"
     ]
    },
    {
     "name": "stdin",
     "output_type": "stream",
     "text": [
      "Enter 'n' for position shift:  4\n"
     ]
    },
    {
     "name": "stdout",
     "output_type": "stream",
     "text": [
      "[5, 6, 7, 8, 9, 1, 2, 3, 4]\n",
      "(5, 6, 7, 8, 9, 1, 2, 3, 4)\n"
     ]
    }
   ],
   "source": [
    "# 40. Rotate a tuple to the right by `n` positions.\n",
    "t1 = tuple(range(1,10))\n",
    "print(t1)\n",
    "n=int(input(\"Enter 'n' for position shift: \"))\n",
    "l1=list(t1)\n",
    "l1_right=l1[n:]\n",
    "l1_left=l1[:n]\n",
    "l2=l1_right+l1_left\n",
    "print(l2)\n",
    "t2=tuple(l2)\n",
    "print(t2)"
   ]
  },
  {
   "cell_type": "code",
   "execution_count": 31,
   "id": "79fdd69d-efe4-4c36-949f-346c8fe16b1a",
   "metadata": {},
   "outputs": [
    {
     "name": "stdout",
     "output_type": "stream",
     "text": [
      "[1, 2, 3, 4, 5]\n",
      "[1, 2, 3, 5, 8, 13]\n",
      "(1, 2, 3, 5, 8, 13)\n"
     ]
    }
   ],
   "source": [
    "# 41. Create a tuple of the first 5 Fibonacci numbers.\n",
    "l = list(range(1,6))\n",
    "print(l)\n",
    "f = []\n",
    "f.append(l[0])\n",
    "f.append(l[1])\n",
    "for n in range(2,6):\n",
    "    f.append(f[n-1]+f[n-2])\n",
    "print(f)\n",
    "tf = tuple(f)\n",
    "print(tf)"
   ]
  },
  {
   "cell_type": "code",
   "execution_count": 32,
   "id": "cb942f18-d978-4cb6-bf41-9fa97d46dff7",
   "metadata": {},
   "outputs": [
    {
     "name": "stdin",
     "output_type": "stream",
     "text": [
      "Enter comma separated input:  1,2,3,4,5\n"
     ]
    },
    {
     "name": "stdout",
     "output_type": "stream",
     "text": [
      "('1', '2', '3', '4', '5')\n"
     ]
    }
   ],
   "source": [
    "# 42. Create a tuple from user input.\n",
    "t1=tuple(input(\"Enter comma separated input: \").split(\",\"))\n",
    "print(t1)"
   ]
  },
  {
   "cell_type": "code",
   "execution_count": 35,
   "id": "2eeb9fc2-1337-449a-a8ff-b780bb32b416",
   "metadata": {},
   "outputs": [
    {
     "name": "stdout",
     "output_type": "stream",
     "text": [
      "(1, 2)\n",
      "(2, 1)\n"
     ]
    }
   ],
   "source": [
    "# 43. Swap two elements in a tuple.\n",
    "t=(1,2)\n",
    "print(t)\n",
    "l=list(t)\n",
    "l[1],l[0]=l[0],l[1]\n",
    "t2=tuple(l)\n",
    "print(t2)"
   ]
  },
  {
   "cell_type": "code",
   "execution_count": 36,
   "id": "250020cf-b84f-4e78-a012-e65cbbae8e09",
   "metadata": {},
   "outputs": [
    {
     "name": "stdout",
     "output_type": "stream",
     "text": [
      "(5, 4, 3, 2, 1)\n"
     ]
    }
   ],
   "source": [
    "# 44. Reverse the elements of a tuple.\n",
    "t1=tuple(range(1,6))\n",
    "t2=t1[::-1]\n",
    "print(t2)\n"
   ]
  },
  {
   "cell_type": "code",
   "execution_count": 37,
   "id": "c87c01bc-c8f9-455a-8884-81ed6f8fcba4",
   "metadata": {},
   "outputs": [
    {
     "name": "stdout",
     "output_type": "stream",
     "text": [
      "(2, 4, 8, 16, 32, 64, 128, 256, 512, 1024)\n"
     ]
    }
   ],
   "source": [
    "# 45. Create a tuple of the first `n` powers of 2.\n",
    "t1=tuple([2**n for n in range(1,11)])\n",
    "print(t1)"
   ]
  },
  {
   "cell_type": "code",
   "execution_count": 39,
   "id": "c148f5f5-9384-4712-8d9f-76eedf9755dd",
   "metadata": {},
   "outputs": [
    {
     "name": "stdout",
     "output_type": "stream",
     "text": [
      "('Find', 'the', 'longest', 'string', 'in', 'a', 'tuple', 'of', 'strings')\n",
      "longest\n"
     ]
    }
   ],
   "source": [
    "# 46. Find the longest string in a tuple of strings.\n",
    "s = \"Find the longest string in a tuple of strings\"\n",
    "t1=tuple(s.split())\n",
    "print(t1)\n",
    "max_len=0\n",
    "max_str=\"\"\n",
    "for i in t1:\n",
    "    if len(i) > max_len:\n",
    "        max_len=len(i)\n",
    "        max_str=i\n",
    "print(max_str)"
   ]
  },
  {
   "cell_type": "code",
   "execution_count": 40,
   "id": "281abe1d-146d-4403-a383-2da92a53863b",
   "metadata": {},
   "outputs": [
    {
     "name": "stdout",
     "output_type": "stream",
     "text": [
      "('Find', 'the', 'shortest', 'string', 'in', 'a', 'tuple', 'of', 'strings')\n",
      "a\n"
     ]
    }
   ],
   "source": [
    "# 47. Find the shortest string in a tuple of strings.\n",
    "s = \"Find the shortest string in a tuple of strings\"\n",
    "t1=tuple(s.split())\n",
    "print(t1)\n",
    "min_len=99999\n",
    "min_str=\"\"\n",
    "for i in t1:\n",
    "    if len(i) < min_len:\n",
    "        min_len=len(i)\n",
    "        min_str=i\n",
    "print(min_str)"
   ]
  },
  {
   "cell_type": "code",
   "execution_count": 41,
   "id": "942cd848-855e-4ee0-8444-82a75b3138a8",
   "metadata": {},
   "outputs": [
    {
     "name": "stdout",
     "output_type": "stream",
     "text": [
      "[1, 2, 3, 4, 5, 6, 7, 8, 9]\n",
      "(1, 3, 6, 10, 15, 21, 28, 36, 45)\n"
     ]
    }
   ],
   "source": [
    "# 48. Create a tuple of the first `n` triangular numbers.\n",
    "l = [n for n in range(1,10)]\n",
    "print(l)\n",
    "triangular = []\n",
    "for n in l:\n",
    "    sum = 0\n",
    "    for s in range(0,n+1):\n",
    "        sum += s\n",
    "    triangular.append(sum)\n",
    "t1=tuple(triangular)\n",
    "print(t1)"
   ]
  },
  {
   "cell_type": "code",
   "execution_count": 43,
   "id": "8a2fc7fb-a74f-4404-a6fc-8ec772741f10",
   "metadata": {},
   "outputs": [
    {
     "name": "stdout",
     "output_type": "stream",
     "text": [
      "((1, 2), (3, 4))\n",
      "We have tuple as subsequence\n"
     ]
    }
   ],
   "source": [
    "# 49. Check if a tuple contains another tuple as a subsequence\n",
    "t1=(1,2),\n",
    "t2=(3,4),\n",
    "t3=t1+t2\n",
    "print(t3)\n",
    "for t in t3:\n",
    "    if type(t) == type(t3):\n",
    "        print(\"We have tuple as subsequence\")\n",
    "        break\n",
    "    else:\n",
    "        print(\"There is no tuple as subsequence\")"
   ]
  },
  {
   "cell_type": "code",
   "execution_count": 45,
   "id": "9d36ccab-e918-4c2b-a39e-12f152e37f43",
   "metadata": {},
   "outputs": [
    {
     "name": "stdin",
     "output_type": "stream",
     "text": [
      "Enter length of tuple:  5\n"
     ]
    },
    {
     "name": "stdout",
     "output_type": "stream",
     "text": [
      "[0, 1, 0, 1, 0]\n",
      "(0, 1, 0, 1, 0)\n"
     ]
    }
   ],
   "source": [
    "# 50. Create a tuple of alternating 1s and 0s of length `n`.\n",
    "n=int(input(\"Enter length of tuple: \"))\n",
    "l=[]\n",
    "for i in range(1,n+1):\n",
    "    if i%2==0:\n",
    "        l.append(1)\n",
    "    else:\n",
    "        l.append(0)\n",
    "t=tuple(l)\n",
    "print(t)"
   ]
  },
  {
   "cell_type": "code",
   "execution_count": null,
   "id": "d89270f1-4d24-4a5c-84c9-28eef59921b6",
   "metadata": {},
   "outputs": [],
   "source": []
  },
  {
   "cell_type": "code",
   "execution_count": null,
   "id": "d5302930-093e-4ad0-bd8a-6a24a6dbc10c",
   "metadata": {},
   "outputs": [],
   "source": []
  }
 ],
 "metadata": {
  "kernelspec": {
   "display_name": "Python 3 (ipykernel)",
   "language": "python",
   "name": "python3"
  },
  "language_info": {
   "codemirror_mode": {
    "name": "ipython",
    "version": 3
   },
   "file_extension": ".py",
   "mimetype": "text/x-python",
   "name": "python",
   "nbconvert_exporter": "python",
   "pygments_lexer": "ipython3",
   "version": "3.10.8"
  }
 },
 "nbformat": 4,
 "nbformat_minor": 5
}
